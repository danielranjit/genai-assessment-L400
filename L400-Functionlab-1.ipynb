{
  "cells": [
    {
      "cell_type": "code",
      "id": "RaVN1VqQkKXRhnlil1CqxQZa",
      "metadata": {
        "tags": [],
        "id": "RaVN1VqQkKXRhnlil1CqxQZa",
        "colab": {
          "base_uri": "https://localhost:8080/"
        },
        "executionInfo": {
          "status": "ok",
          "timestamp": 1727704567280,
          "user_tz": -330,
          "elapsed": 2919,
          "user": {
            "displayName": "",
            "userId": ""
          }
        },
        "outputId": "16e434e7-13ec-49e7-98b7-3ae6b91d87a9"
      },
      "source": [
        "! pip3 install --upgrade --user google-cloud-aiplatform==1.60.0"
      ],
      "execution_count": 1,
      "outputs": [
        {
          "output_type": "stream",
          "name": "stdout",
          "text": [
            "Requirement already satisfied: google-cloud-aiplatform==1.60.0 in /root/.local/lib/python3.10/site-packages (1.60.0)\n",
            "Requirement already satisfied: google-api-core!=2.0.*,!=2.1.*,!=2.2.*,!=2.3.*,!=2.4.*,!=2.5.*,!=2.6.*,!=2.7.*,<3.0.0dev,>=1.34.1 in /usr/local/lib/python3.10/dist-packages (from google-api-core[grpc]!=2.0.*,!=2.1.*,!=2.2.*,!=2.3.*,!=2.4.*,!=2.5.*,!=2.6.*,!=2.7.*,<3.0.0dev,>=1.34.1->google-cloud-aiplatform==1.60.0) (2.19.2)\n",
            "Requirement already satisfied: google-auth<3.0.0dev,>=2.14.1 in /usr/local/lib/python3.10/dist-packages (from google-cloud-aiplatform==1.60.0) (2.27.0)\n",
            "Requirement already satisfied: proto-plus<2.0.0dev,>=1.22.3 in /usr/local/lib/python3.10/dist-packages (from google-cloud-aiplatform==1.60.0) (1.24.0)\n",
            "Requirement already satisfied: protobuf!=3.20.0,!=3.20.1,!=4.21.0,!=4.21.1,!=4.21.2,!=4.21.3,!=4.21.4,!=4.21.5,<5.0.0dev,>=3.19.5 in /usr/local/lib/python3.10/dist-packages (from google-cloud-aiplatform==1.60.0) (3.20.3)\n",
            "Requirement already satisfied: packaging>=14.3 in /usr/local/lib/python3.10/dist-packages (from google-cloud-aiplatform==1.60.0) (24.1)\n",
            "Requirement already satisfied: google-cloud-storage<3.0.0dev,>=1.32.0 in /usr/local/lib/python3.10/dist-packages (from google-cloud-aiplatform==1.60.0) (2.8.0)\n",
            "Requirement already satisfied: google-cloud-bigquery!=3.20.0,<4.0.0dev,>=1.15.0 in /usr/local/lib/python3.10/dist-packages (from google-cloud-aiplatform==1.60.0) (3.25.0)\n",
            "Requirement already satisfied: google-cloud-resource-manager<3.0.0dev,>=1.3.3 in /usr/local/lib/python3.10/dist-packages (from google-cloud-aiplatform==1.60.0) (1.12.5)\n",
            "Requirement already satisfied: shapely<3.0.0dev in /usr/local/lib/python3.10/dist-packages (from google-cloud-aiplatform==1.60.0) (2.0.6)\n",
            "Requirement already satisfied: pydantic<3 in /usr/local/lib/python3.10/dist-packages (from google-cloud-aiplatform==1.60.0) (1.10.18)\n",
            "Requirement already satisfied: docstring-parser<1 in /usr/local/lib/python3.10/dist-packages (from google-cloud-aiplatform==1.60.0) (0.16)\n",
            "Requirement already satisfied: googleapis-common-protos<2.0.dev0,>=1.56.2 in /usr/local/lib/python3.10/dist-packages (from google-api-core!=2.0.*,!=2.1.*,!=2.2.*,!=2.3.*,!=2.4.*,!=2.5.*,!=2.6.*,!=2.7.*,<3.0.0dev,>=1.34.1->google-api-core[grpc]!=2.0.*,!=2.1.*,!=2.2.*,!=2.3.*,!=2.4.*,!=2.5.*,!=2.6.*,!=2.7.*,<3.0.0dev,>=1.34.1->google-cloud-aiplatform==1.60.0) (1.65.0)\n",
            "Requirement already satisfied: requests<3.0.0.dev0,>=2.18.0 in /usr/local/lib/python3.10/dist-packages (from google-api-core!=2.0.*,!=2.1.*,!=2.2.*,!=2.3.*,!=2.4.*,!=2.5.*,!=2.6.*,!=2.7.*,<3.0.0dev,>=1.34.1->google-api-core[grpc]!=2.0.*,!=2.1.*,!=2.2.*,!=2.3.*,!=2.4.*,!=2.5.*,!=2.6.*,!=2.7.*,<3.0.0dev,>=1.34.1->google-cloud-aiplatform==1.60.0) (2.32.3)\n",
            "Requirement already satisfied: grpcio<2.0dev,>=1.33.2 in /usr/local/lib/python3.10/dist-packages (from google-api-core[grpc]!=2.0.*,!=2.1.*,!=2.2.*,!=2.3.*,!=2.4.*,!=2.5.*,!=2.6.*,!=2.7.*,<3.0.0dev,>=1.34.1->google-cloud-aiplatform==1.60.0) (1.64.1)\n",
            "Requirement already satisfied: grpcio-status<2.0.dev0,>=1.33.2 in /usr/local/lib/python3.10/dist-packages (from google-api-core[grpc]!=2.0.*,!=2.1.*,!=2.2.*,!=2.3.*,!=2.4.*,!=2.5.*,!=2.6.*,!=2.7.*,<3.0.0dev,>=1.34.1->google-cloud-aiplatform==1.60.0) (1.48.2)\n",
            "Requirement already satisfied: cachetools<6.0,>=2.0.0 in /usr/local/lib/python3.10/dist-packages (from google-auth<3.0.0dev,>=2.14.1->google-cloud-aiplatform==1.60.0) (5.5.0)\n",
            "Requirement already satisfied: pyasn1-modules>=0.2.1 in /usr/local/lib/python3.10/dist-packages (from google-auth<3.0.0dev,>=2.14.1->google-cloud-aiplatform==1.60.0) (0.4.1)\n",
            "Requirement already satisfied: rsa<5,>=3.1.4 in /usr/local/lib/python3.10/dist-packages (from google-auth<3.0.0dev,>=2.14.1->google-cloud-aiplatform==1.60.0) (4.9)\n",
            "Requirement already satisfied: google-cloud-core<3.0.0dev,>=1.6.0 in /usr/local/lib/python3.10/dist-packages (from google-cloud-bigquery!=3.20.0,<4.0.0dev,>=1.15.0->google-cloud-aiplatform==1.60.0) (2.4.1)\n",
            "Requirement already satisfied: google-resumable-media<3.0dev,>=0.6.0 in /usr/local/lib/python3.10/dist-packages (from google-cloud-bigquery!=3.20.0,<4.0.0dev,>=1.15.0->google-cloud-aiplatform==1.60.0) (2.7.2)\n",
            "Requirement already satisfied: python-dateutil<3.0dev,>=2.7.2 in /usr/local/lib/python3.10/dist-packages (from google-cloud-bigquery!=3.20.0,<4.0.0dev,>=1.15.0->google-cloud-aiplatform==1.60.0) (2.8.2)\n",
            "Requirement already satisfied: grpc-google-iam-v1<1.0.0dev,>=0.12.4 in /usr/local/lib/python3.10/dist-packages (from google-cloud-resource-manager<3.0.0dev,>=1.3.3->google-cloud-aiplatform==1.60.0) (0.13.1)\n",
            "Requirement already satisfied: typing-extensions>=4.2.0 in /usr/local/lib/python3.10/dist-packages (from pydantic<3->google-cloud-aiplatform==1.60.0) (4.12.2)\n",
            "Requirement already satisfied: numpy<3,>=1.14 in /usr/local/lib/python3.10/dist-packages (from shapely<3.0.0dev->google-cloud-aiplatform==1.60.0) (1.26.4)\n",
            "Requirement already satisfied: google-crc32c<2.0dev,>=1.0 in /usr/local/lib/python3.10/dist-packages (from google-resumable-media<3.0dev,>=0.6.0->google-cloud-bigquery!=3.20.0,<4.0.0dev,>=1.15.0->google-cloud-aiplatform==1.60.0) (1.6.0)\n",
            "Requirement already satisfied: pyasn1<0.7.0,>=0.4.6 in /usr/local/lib/python3.10/dist-packages (from pyasn1-modules>=0.2.1->google-auth<3.0.0dev,>=2.14.1->google-cloud-aiplatform==1.60.0) (0.6.1)\n",
            "Requirement already satisfied: six>=1.5 in /usr/local/lib/python3.10/dist-packages (from python-dateutil<3.0dev,>=2.7.2->google-cloud-bigquery!=3.20.0,<4.0.0dev,>=1.15.0->google-cloud-aiplatform==1.60.0) (1.16.0)\n",
            "Requirement already satisfied: charset-normalizer<4,>=2 in /usr/local/lib/python3.10/dist-packages (from requests<3.0.0.dev0,>=2.18.0->google-api-core!=2.0.*,!=2.1.*,!=2.2.*,!=2.3.*,!=2.4.*,!=2.5.*,!=2.6.*,!=2.7.*,<3.0.0dev,>=1.34.1->google-api-core[grpc]!=2.0.*,!=2.1.*,!=2.2.*,!=2.3.*,!=2.4.*,!=2.5.*,!=2.6.*,!=2.7.*,<3.0.0dev,>=1.34.1->google-cloud-aiplatform==1.60.0) (3.3.2)\n",
            "Requirement already satisfied: idna<4,>=2.5 in /usr/local/lib/python3.10/dist-packages (from requests<3.0.0.dev0,>=2.18.0->google-api-core!=2.0.*,!=2.1.*,!=2.2.*,!=2.3.*,!=2.4.*,!=2.5.*,!=2.6.*,!=2.7.*,<3.0.0dev,>=1.34.1->google-api-core[grpc]!=2.0.*,!=2.1.*,!=2.2.*,!=2.3.*,!=2.4.*,!=2.5.*,!=2.6.*,!=2.7.*,<3.0.0dev,>=1.34.1->google-cloud-aiplatform==1.60.0) (3.10)\n",
            "Requirement already satisfied: urllib3<3,>=1.21.1 in /usr/local/lib/python3.10/dist-packages (from requests<3.0.0.dev0,>=2.18.0->google-api-core!=2.0.*,!=2.1.*,!=2.2.*,!=2.3.*,!=2.4.*,!=2.5.*,!=2.6.*,!=2.7.*,<3.0.0dev,>=1.34.1->google-api-core[grpc]!=2.0.*,!=2.1.*,!=2.2.*,!=2.3.*,!=2.4.*,!=2.5.*,!=2.6.*,!=2.7.*,<3.0.0dev,>=1.34.1->google-cloud-aiplatform==1.60.0) (2.0.7)\n",
            "Requirement already satisfied: certifi>=2017.4.17 in /usr/local/lib/python3.10/dist-packages (from requests<3.0.0.dev0,>=2.18.0->google-api-core!=2.0.*,!=2.1.*,!=2.2.*,!=2.3.*,!=2.4.*,!=2.5.*,!=2.6.*,!=2.7.*,<3.0.0dev,>=1.34.1->google-api-core[grpc]!=2.0.*,!=2.1.*,!=2.2.*,!=2.3.*,!=2.4.*,!=2.5.*,!=2.6.*,!=2.7.*,<3.0.0dev,>=1.34.1->google-cloud-aiplatform==1.60.0) (2024.8.30)\n"
          ]
        }
      ]
    },
    {
      "cell_type": "code",
      "source": [
        "# Restart kernel after installs so that your environment can access the new packages\n",
        "import IPython\n",
        "\n",
        "app = IPython.Application.instance()\n",
        "app.kernel.do_shutdown(True)"
      ],
      "metadata": {
        "colab": {
          "base_uri": "https://localhost:8080/"
        },
        "id": "5w7VgIs5LKuJ",
        "executionInfo": {
          "status": "ok",
          "timestamp": 1727704573254,
          "user_tz": -330,
          "elapsed": 757,
          "user": {
            "displayName": "",
            "userId": ""
          }
        },
        "outputId": "11456a94-1bc8-403d-902e-c646820e82fb"
      },
      "id": "5w7VgIs5LKuJ",
      "execution_count": 2,
      "outputs": [
        {
          "output_type": "execute_result",
          "data": {
            "text/plain": [
              "{'status': 'ok', 'restart': True}"
            ]
          },
          "metadata": {},
          "execution_count": 2
        }
      ]
    },
    {
      "cell_type": "code",
      "source": [
        "import vertexai\n",
        "\n",
        "PROJECT_ID = ! gcloud config get-value project\n",
        "PROJECT_ID = PROJECT_ID[0]\n",
        "LOCATION = \"us-central1\" # @param {type:\"string\"}\n",
        "\n",
        "# define project information manually if the above code didn't work\n",
        "if PROJECT_ID == \"(unset)\":\n",
        "  PROJECT_ID = \"[your-project-id]\" # @param {type:\"string\"}\n",
        "\n",
        "print(PROJECT_ID)\n",
        "\n",
        "vertexai.init(project=PROJECT_ID, location=LOCATION)"
      ],
      "metadata": {
        "colab": {
          "base_uri": "https://localhost:8080/"
        },
        "id": "0SGEDm4VLNN7",
        "executionInfo": {
          "status": "ok",
          "timestamp": 1727704584194,
          "user_tz": -330,
          "elapsed": 653,
          "user": {
            "displayName": "",
            "userId": ""
          }
        },
        "outputId": "b12e6352-2c94-4442-8631-bc7560f10904"
      },
      "id": "0SGEDm4VLNN7",
      "execution_count": 2,
      "outputs": [
        {
          "output_type": "stream",
          "name": "stdout",
          "text": [
            "qwiklabs-gcp-00-5fb06f7e2efc\n"
          ]
        }
      ]
    },
    {
      "cell_type": "code",
      "source": [
        "import requests\n",
        "from vertexai.generative_models import (\n",
        "    Content,\n",
        "    FunctionDeclaration,\n",
        "    GenerationConfig,\n",
        "    GenerativeModel,\n",
        "    Part,\n",
        "    Tool,\n",
        ")"
      ],
      "metadata": {
        "id": "VNF-e7ALNo2n",
        "executionInfo": {
          "status": "ok",
          "timestamp": 1727704587019,
          "user_tz": -330,
          "elapsed": 3,
          "user": {
            "displayName": "",
            "userId": ""
          }
        }
      },
      "id": "VNF-e7ALNo2n",
      "execution_count": 3,
      "outputs": []
    },
    {
      "cell_type": "code",
      "source": [
        "def multiply(a:float, b:float):\n",
        "    \"\"\"returns a * b.\"\"\"\n",
        "    print(\"Calling Multiply function\")\n",
        "    return a * b\n",
        "\n",
        "def add(a:float, b:float):\n",
        "    \"\"\"returns a + b.\"\"\"\n",
        "    print(\"Calling Add function\")\n",
        "    return a + b\n",
        "\n",
        "\n",
        "multiply_info = FunctionDeclaration(\n",
        "    name=\"multiply\",\n",
        "    description=\"Multiplies two numbers and returns the result\",\n",
        "    parameters={\n",
        "        \"type\": \"object\",\n",
        "        \"properties\": {\n",
        "            \"a\": {\"type\": \"number\", \"description\": \"First number\"},\n",
        "            \"b\": {\"type\": \"number\", \"description\": \"Second number\"}\n",
        "        },\n",
        "    },\n",
        ")\n",
        "\n",
        "add_info = FunctionDeclaration(\n",
        "    name=\"add\",\n",
        "    description=\"Adds two numbers and returns the result\",\n",
        "    parameters={\n",
        "        \"type\": \"object\",\n",
        "        \"properties\": {\n",
        "            \"a\": {\"type\": \"number\", \"description\": \"First number\"},\n",
        "            \"b\": {\"type\": \"number\", \"description\": \"Second number\"}\n",
        "        },\n",
        "    },\n",
        ")\n",
        "\n",
        "\n",
        "math_tool = Tool(\n",
        "    function_declarations=[\n",
        "        multiply_info,\n",
        "        add_info\n",
        "    ],\n",
        ")\n",
        "\n",
        "model = GenerativeModel(\n",
        "    \"gemini-1.5-pro-001\",\n",
        "    system_instruction=[\"\"\"Answer the user's question,\n",
        "    but do not do any math yourself.\"\"\"],\n",
        "    tools=[math_tool]\n",
        "  )"
      ],
      "metadata": {
        "id": "G6ItAFKxLTkw",
        "executionInfo": {
          "status": "ok",
          "timestamp": 1727704589095,
          "user_tz": -330,
          "elapsed": 3,
          "user": {
            "displayName": "",
            "userId": ""
          }
        }
      },
      "id": "G6ItAFKxLTkw",
      "execution_count": 4,
      "outputs": []
    },
    {
      "cell_type": "code",
      "source": [
        "def handle_response(response):\n",
        "\n",
        "  # If there is a function call then invoke it\n",
        "  # Otherwise print the response.\n",
        "  if response.candidates[0].function_calls:\n",
        "    function_call = response.candidates[0].function_calls[0]\n",
        "  else:\n",
        "    print(response.text)\n",
        "    return\n",
        "\n",
        "\n",
        "  if function_call.name == \"multiply\":\n",
        "      # Extract the arguments to use in your function\n",
        "      a = function_call.args[\"a\"]\n",
        "      b = function_call.args[\"b\"]\n",
        "\n",
        "      # Call your function\n",
        "      result = multiply(a, b)\n",
        "\n",
        "      # Send the result back to the model\n",
        "      response = chat.send_message(\"{0}\".format(result))\n",
        "\n",
        "      # Recursive call\n",
        "      handle_response(response)\n",
        "\n",
        "  elif function_call.name == \"add\":\n",
        "      # Extract the arguments to use in your function\n",
        "      a = function_call.args[\"a\"]\n",
        "      b = function_call.args[\"b\"]\n",
        "\n",
        "      # Call your function\n",
        "      result = add(a, b)\n",
        "\n",
        "      # Send the result back to the model\n",
        "      response = chat.send_message(\"{0}\".format(result))\n",
        "      # Recursive call\n",
        "      handle_response(response)\n",
        "  else:\n",
        "      # Shouldn't get here\n",
        "      print(function_call)"
      ],
      "metadata": {
        "id": "oBwQ1-ULOIBW",
        "executionInfo": {
          "status": "ok",
          "timestamp": 1727704647498,
          "user_tz": -330,
          "elapsed": 713,
          "user": {
            "displayName": "",
            "userId": ""
          }
        }
      },
      "id": "oBwQ1-ULOIBW",
      "execution_count": 8,
      "outputs": []
    },
    {
      "cell_type": "code",
      "source": [
        "chat = model.start_chat()"
      ],
      "metadata": {
        "id": "cxdcL0lsNEOx",
        "executionInfo": {
          "status": "ok",
          "timestamp": 1727704651739,
          "user_tz": -330,
          "elapsed": 724,
          "user": {
            "displayName": "",
            "userId": ""
          }
        }
      },
      "id": "cxdcL0lsNEOx",
      "execution_count": 9,
      "outputs": []
    },
    {
      "cell_type": "code",
      "source": [
        "response = chat.send_message(\"Tell me a joke?\")\n",
        "# print(response)\n",
        "handle_response(response)"
      ],
      "metadata": {
        "id": "pPQ6ldE3RcIj"
      },
      "id": "pPQ6ldE3RcIj",
      "execution_count": null,
      "outputs": []
    },
    {
      "cell_type": "code",
      "source": [
        "response = chat.send_message(\"I have 7 pizzas each with 16 slices. How many slices do I have?\")\n",
        "\n",
        "# print(response)\n",
        "handle_response(response)"
      ],
      "metadata": {
        "colab": {
          "base_uri": "https://localhost:8080/"
        },
        "id": "D013epHHNGOA",
        "executionInfo": {
          "status": "ok",
          "timestamp": 1727704655798,
          "user_tz": -330,
          "elapsed": 1854,
          "user": {
            "displayName": "",
            "userId": ""
          }
        },
        "outputId": "cf4d1df4-bfe2-4d9c-cab4-1308030d5528"
      },
      "id": "D013epHHNGOA",
      "execution_count": 10,
      "outputs": [
        {
          "output_type": "stream",
          "name": "stdout",
          "text": [
            "Calling Multiply function\n",
            "You have a total of 112 slices. \n",
            "\n"
          ]
        }
      ]
    },
    {
      "cell_type": "code",
      "source": [
        "response = chat.send_message(\"\"\"\n",
        "Doug brought 4 pizzas, but Andrew dropped 2 on the ground.\n",
        "How many pizzas are left?\n",
        "\"\"\")\n",
        "\n",
        "# print(response)\n",
        "handle_response(response)"
      ],
      "metadata": {
        "colab": {
          "base_uri": "https://localhost:8080/"
        },
        "id": "HYn9LJhENUFS",
        "executionInfo": {
          "status": "ok",
          "timestamp": 1727704661514,
          "user_tz": -330,
          "elapsed": 2271,
          "user": {
            "displayName": "",
            "userId": ""
          }
        },
        "outputId": "0aaca5fe-a6e0-48b8-da4d-1057147397da"
      },
      "id": "HYn9LJhENUFS",
      "execution_count": 11,
      "outputs": [
        {
          "output_type": "stream",
          "name": "stdout",
          "text": [
            "Calling Add function\n",
            "There are 2 pizzas left. \n",
            "\n"
          ]
        }
      ]
    },
    {
      "cell_type": "code",
      "source": [
        "response = chat.send_message(\"\"\"\n",
        "Doug brought 3 pizzas.\n",
        "Andrew brought 4 pizzas.\n",
        "How many pizzas did they bring together?\n",
        "\"\"\")\n",
        "\n",
        "handle_response(response)"
      ],
      "metadata": {
        "colab": {
          "base_uri": "https://localhost:8080/"
        },
        "id": "3jwWARBsNZ3M",
        "executionInfo": {
          "status": "ok",
          "timestamp": 1727704668552,
          "user_tz": -330,
          "elapsed": 2094,
          "user": {
            "displayName": "",
            "userId": ""
          }
        },
        "outputId": "e326a835-fe98-4715-e147-f763566e9154"
      },
      "id": "3jwWARBsNZ3M",
      "execution_count": 12,
      "outputs": [
        {
          "output_type": "stream",
          "name": "stdout",
          "text": [
            "Calling Add function\n",
            "They brought 7 pizzas together. \n",
            "\n"
          ]
        }
      ]
    },
    {
      "cell_type": "code",
      "source": [
        "response = chat.send_message(\"\"\"\n",
        "Doug brought 3 pizzas.\n",
        "Andrew brought 4 pizzas.\n",
        "There are 16 slices per pizza.\n",
        "How many slices are there?\n",
        "\"\"\")\n",
        "\n",
        "handle_response(response)"
      ],
      "metadata": {
        "colab": {
          "base_uri": "https://localhost:8080/"
        },
        "id": "HaBSQo1BNdrl",
        "executionInfo": {
          "status": "ok",
          "timestamp": 1727704769518,
          "user_tz": -330,
          "elapsed": 5125,
          "user": {
            "displayName": "",
            "userId": ""
          }
        },
        "outputId": "a9c96bb5-a8bd-4055-bfc8-3bddc52cbc19"
      },
      "id": "HaBSQo1BNdrl",
      "execution_count": 14,
      "outputs": [
        {
          "output_type": "stream",
          "name": "stdout",
          "text": [
            "Calling Multiply function\n",
            "Calling Multiply function\n",
            "Calling Add function\n",
            "There are a total of 112 slices. \n",
            "\n"
          ]
        }
      ]
    }
  ],
  "metadata": {
    "kernelspec": {
      "display_name": "Python 3",
      "language": "python",
      "name": "python3"
    },
    "language_info": {
      "codemirror_mode": {
        "name": "ipython",
        "version": 3
      },
      "file_extension": ".py",
      "mimetype": "text/x-python",
      "name": "python",
      "nbconvert_exporter": "python",
      "pygments_lexer": "ipython3",
      "version": "3.10.10"
    },
    "colab": {
      "provenance": [],
      "name": "student-02-ff870324bac6 (Sep 30, 2024, 7:13:42 PM)"
    }
  },
  "nbformat": 4,
  "nbformat_minor": 5
}