{
  "cells": [
    {
      "cell_type": "code",
      "execution_count": null,
      "id": "9d0dad3d-eb19-454d-b28e-86ede0cb5bfd",
      "metadata": {
        "tags": [],
        "id": "9d0dad3d-eb19-454d-b28e-86ede0cb5bfd",
        "outputId": "cbf81103-e5a1-4608-8765-6ca36290c810"
      },
      "outputs": [
        {
          "name": "stdout",
          "output_type": "stream",
          "text": [
            "Collecting google-cloud-aiplatform==1.60.0\n",
            "  Downloading google_cloud_aiplatform-1.60.0-py2.py3-none-any.whl.metadata (31 kB)\n",
            "Requirement already satisfied: google-api-core!=2.0.*,!=2.1.*,!=2.2.*,!=2.3.*,!=2.4.*,!=2.5.*,!=2.6.*,!=2.7.*,<3.0.0dev,>=1.34.1 in /opt/conda/lib/python3.10/site-packages (from google-api-core[grpc]!=2.0.*,!=2.1.*,!=2.2.*,!=2.3.*,!=2.4.*,!=2.5.*,!=2.6.*,!=2.7.*,<3.0.0dev,>=1.34.1->google-cloud-aiplatform==1.60.0) (1.34.1)\n",
            "Requirement already satisfied: google-auth<3.0.0dev,>=2.14.1 in /opt/conda/lib/python3.10/site-packages (from google-cloud-aiplatform==1.60.0) (2.35.0)\n",
            "Requirement already satisfied: proto-plus<2.0.0dev,>=1.22.3 in /opt/conda/lib/python3.10/site-packages (from google-cloud-aiplatform==1.60.0) (1.24.0)\n",
            "Requirement already satisfied: protobuf!=3.20.0,!=3.20.1,!=4.21.0,!=4.21.1,!=4.21.2,!=4.21.3,!=4.21.4,!=4.21.5,<5.0.0dev,>=3.19.5 in /opt/conda/lib/python3.10/site-packages (from google-cloud-aiplatform==1.60.0) (3.20.3)\n",
            "Requirement already satisfied: packaging>=14.3 in /opt/conda/lib/python3.10/site-packages (from google-cloud-aiplatform==1.60.0) (24.1)\n",
            "Requirement already satisfied: google-cloud-storage<3.0.0dev,>=1.32.0 in /opt/conda/lib/python3.10/site-packages (from google-cloud-aiplatform==1.60.0) (2.14.0)\n",
            "Requirement already satisfied: google-cloud-bigquery!=3.20.0,<4.0.0dev,>=1.15.0 in /opt/conda/lib/python3.10/site-packages (from google-cloud-aiplatform==1.60.0) (3.25.0)\n",
            "Requirement already satisfied: google-cloud-resource-manager<3.0.0dev,>=1.3.3 in /opt/conda/lib/python3.10/site-packages (from google-cloud-aiplatform==1.60.0) (1.12.5)\n",
            "Requirement already satisfied: shapely<3.0.0dev in /opt/conda/lib/python3.10/site-packages (from google-cloud-aiplatform==1.60.0) (2.0.6)\n",
            "Requirement already satisfied: pydantic<3 in /opt/conda/lib/python3.10/site-packages (from google-cloud-aiplatform==1.60.0) (2.9.2)\n",
            "Requirement already satisfied: docstring-parser<1 in /opt/conda/lib/python3.10/site-packages (from google-cloud-aiplatform==1.60.0) (0.16)\n",
            "Requirement already satisfied: googleapis-common-protos<2.0dev,>=1.56.2 in /opt/conda/lib/python3.10/site-packages (from google-api-core!=2.0.*,!=2.1.*,!=2.2.*,!=2.3.*,!=2.4.*,!=2.5.*,!=2.6.*,!=2.7.*,<3.0.0dev,>=1.34.1->google-api-core[grpc]!=2.0.*,!=2.1.*,!=2.2.*,!=2.3.*,!=2.4.*,!=2.5.*,!=2.6.*,!=2.7.*,<3.0.0dev,>=1.34.1->google-cloud-aiplatform==1.60.0) (1.65.0)\n",
            "Requirement already satisfied: requests<3.0.0dev,>=2.18.0 in /opt/conda/lib/python3.10/site-packages (from google-api-core!=2.0.*,!=2.1.*,!=2.2.*,!=2.3.*,!=2.4.*,!=2.5.*,!=2.6.*,!=2.7.*,<3.0.0dev,>=1.34.1->google-api-core[grpc]!=2.0.*,!=2.1.*,!=2.2.*,!=2.3.*,!=2.4.*,!=2.5.*,!=2.6.*,!=2.7.*,<3.0.0dev,>=1.34.1->google-cloud-aiplatform==1.60.0) (2.32.3)\n",
            "Requirement already satisfied: grpcio<2.0dev,>=1.33.2 in /opt/conda/lib/python3.10/site-packages (from google-api-core[grpc]!=2.0.*,!=2.1.*,!=2.2.*,!=2.3.*,!=2.4.*,!=2.5.*,!=2.6.*,!=2.7.*,<3.0.0dev,>=1.34.1->google-cloud-aiplatform==1.60.0) (1.66.1)\n",
            "Requirement already satisfied: grpcio-status<2.0dev,>=1.33.2 in /opt/conda/lib/python3.10/site-packages (from google-api-core[grpc]!=2.0.*,!=2.1.*,!=2.2.*,!=2.3.*,!=2.4.*,!=2.5.*,!=2.6.*,!=2.7.*,<3.0.0dev,>=1.34.1->google-cloud-aiplatform==1.60.0) (1.48.2)\n",
            "Requirement already satisfied: cachetools<6.0,>=2.0.0 in /opt/conda/lib/python3.10/site-packages (from google-auth<3.0.0dev,>=2.14.1->google-cloud-aiplatform==1.60.0) (5.5.0)\n",
            "Requirement already satisfied: pyasn1-modules>=0.2.1 in /opt/conda/lib/python3.10/site-packages (from google-auth<3.0.0dev,>=2.14.1->google-cloud-aiplatform==1.60.0) (0.4.1)\n",
            "Requirement already satisfied: rsa<5,>=3.1.4 in /opt/conda/lib/python3.10/site-packages (from google-auth<3.0.0dev,>=2.14.1->google-cloud-aiplatform==1.60.0) (4.9)\n",
            "Requirement already satisfied: google-cloud-core<3.0.0dev,>=1.6.0 in /opt/conda/lib/python3.10/site-packages (from google-cloud-bigquery!=3.20.0,<4.0.0dev,>=1.15.0->google-cloud-aiplatform==1.60.0) (2.4.1)\n",
            "Requirement already satisfied: google-resumable-media<3.0dev,>=0.6.0 in /opt/conda/lib/python3.10/site-packages (from google-cloud-bigquery!=3.20.0,<4.0.0dev,>=1.15.0->google-cloud-aiplatform==1.60.0) (2.7.2)\n",
            "Requirement already satisfied: python-dateutil<3.0dev,>=2.7.2 in /opt/conda/lib/python3.10/site-packages (from google-cloud-bigquery!=3.20.0,<4.0.0dev,>=1.15.0->google-cloud-aiplatform==1.60.0) (2.9.0.post0)\n",
            "Requirement already satisfied: grpc-google-iam-v1<1.0.0dev,>=0.12.4 in /opt/conda/lib/python3.10/site-packages (from google-cloud-resource-manager<3.0.0dev,>=1.3.3->google-cloud-aiplatform==1.60.0) (0.13.1)\n",
            "Requirement already satisfied: google-crc32c<2.0dev,>=1.0 in /opt/conda/lib/python3.10/site-packages (from google-cloud-storage<3.0.0dev,>=1.32.0->google-cloud-aiplatform==1.60.0) (1.6.0)\n",
            "Requirement already satisfied: annotated-types>=0.6.0 in /opt/conda/lib/python3.10/site-packages (from pydantic<3->google-cloud-aiplatform==1.60.0) (0.7.0)\n",
            "Requirement already satisfied: pydantic-core==2.23.4 in /opt/conda/lib/python3.10/site-packages (from pydantic<3->google-cloud-aiplatform==1.60.0) (2.23.4)\n",
            "Requirement already satisfied: typing-extensions>=4.6.1 in /opt/conda/lib/python3.10/site-packages (from pydantic<3->google-cloud-aiplatform==1.60.0) (4.12.2)\n",
            "Requirement already satisfied: numpy<3,>=1.14 in /opt/conda/lib/python3.10/site-packages (from shapely<3.0.0dev->google-cloud-aiplatform==1.60.0) (1.26.4)\n",
            "Requirement already satisfied: pyasn1<0.7.0,>=0.4.6 in /opt/conda/lib/python3.10/site-packages (from pyasn1-modules>=0.2.1->google-auth<3.0.0dev,>=2.14.1->google-cloud-aiplatform==1.60.0) (0.6.1)\n",
            "Requirement already satisfied: six>=1.5 in /opt/conda/lib/python3.10/site-packages (from python-dateutil<3.0dev,>=2.7.2->google-cloud-bigquery!=3.20.0,<4.0.0dev,>=1.15.0->google-cloud-aiplatform==1.60.0) (1.16.0)\n",
            "Requirement already satisfied: charset-normalizer<4,>=2 in /opt/conda/lib/python3.10/site-packages (from requests<3.0.0dev,>=2.18.0->google-api-core!=2.0.*,!=2.1.*,!=2.2.*,!=2.3.*,!=2.4.*,!=2.5.*,!=2.6.*,!=2.7.*,<3.0.0dev,>=1.34.1->google-api-core[grpc]!=2.0.*,!=2.1.*,!=2.2.*,!=2.3.*,!=2.4.*,!=2.5.*,!=2.6.*,!=2.7.*,<3.0.0dev,>=1.34.1->google-cloud-aiplatform==1.60.0) (3.3.2)\n",
            "Requirement already satisfied: idna<4,>=2.5 in /opt/conda/lib/python3.10/site-packages (from requests<3.0.0dev,>=2.18.0->google-api-core!=2.0.*,!=2.1.*,!=2.2.*,!=2.3.*,!=2.4.*,!=2.5.*,!=2.6.*,!=2.7.*,<3.0.0dev,>=1.34.1->google-api-core[grpc]!=2.0.*,!=2.1.*,!=2.2.*,!=2.3.*,!=2.4.*,!=2.5.*,!=2.6.*,!=2.7.*,<3.0.0dev,>=1.34.1->google-cloud-aiplatform==1.60.0) (3.8)\n",
            "Requirement already satisfied: urllib3<3,>=1.21.1 in /opt/conda/lib/python3.10/site-packages (from requests<3.0.0dev,>=2.18.0->google-api-core!=2.0.*,!=2.1.*,!=2.2.*,!=2.3.*,!=2.4.*,!=2.5.*,!=2.6.*,!=2.7.*,<3.0.0dev,>=1.34.1->google-api-core[grpc]!=2.0.*,!=2.1.*,!=2.2.*,!=2.3.*,!=2.4.*,!=2.5.*,!=2.6.*,!=2.7.*,<3.0.0dev,>=1.34.1->google-cloud-aiplatform==1.60.0) (1.26.20)\n",
            "Requirement already satisfied: certifi>=2017.4.17 in /opt/conda/lib/python3.10/site-packages (from requests<3.0.0dev,>=2.18.0->google-api-core!=2.0.*,!=2.1.*,!=2.2.*,!=2.3.*,!=2.4.*,!=2.5.*,!=2.6.*,!=2.7.*,<3.0.0dev,>=1.34.1->google-api-core[grpc]!=2.0.*,!=2.1.*,!=2.2.*,!=2.3.*,!=2.4.*,!=2.5.*,!=2.6.*,!=2.7.*,<3.0.0dev,>=1.34.1->google-cloud-aiplatform==1.60.0) (2024.8.30)\n",
            "Downloading google_cloud_aiplatform-1.60.0-py2.py3-none-any.whl (5.1 MB)\n",
            "\u001b[2K   \u001b[90m━━━━━━━━━━━━━━━━━━━━━━━━━━━━━━━━━━━━━━━━\u001b[0m \u001b[32m5.1/5.1 MB\u001b[0m \u001b[31m59.7 MB/s\u001b[0m eta \u001b[36m0:00:00\u001b[0m\n",
            "\u001b[?25hInstalling collected packages: google-cloud-aiplatform\n",
            "\u001b[33m  WARNING: The script tb-gcp-uploader is installed in '/home/jupyter/.local/bin' which is not on PATH.\n",
            "  Consider adding this directory to PATH or, if you prefer to suppress this warning, use --no-warn-script-location.\u001b[0m\u001b[33m\n",
            "\u001b[0mSuccessfully installed google-cloud-aiplatform-1.60.0\n"
          ]
        }
      ],
      "source": [
        "! pip3 install --upgrade --user google-cloud-aiplatform==1.60.0"
      ]
    },
    {
      "cell_type": "code",
      "execution_count": null,
      "id": "b314441e-d096-4236-b80c-caf3438900e2",
      "metadata": {
        "tags": [],
        "id": "b314441e-d096-4236-b80c-caf3438900e2",
        "outputId": "8d844e92-5612-459c-a98c-4215cd243ecd"
      },
      "outputs": [
        {
          "data": {
            "text/plain": [
              "{'status': 'ok', 'restart': True}"
            ]
          },
          "execution_count": 2,
          "metadata": {},
          "output_type": "execute_result"
        }
      ],
      "source": [
        "# Restart kernel after installs so that your environment can access the new packages\n",
        "import IPython\n",
        "\n",
        "app = IPython.Application.instance()\n",
        "app.kernel.do_shutdown(True)"
      ]
    },
    {
      "cell_type": "code",
      "execution_count": null,
      "id": "03b9cfc8-e065-4fd3-b88a-766939ebc470",
      "metadata": {
        "tags": [],
        "id": "03b9cfc8-e065-4fd3-b88a-766939ebc470",
        "outputId": "1fb3e804-3fe9-46a2-94ec-88a59707e65e"
      },
      "outputs": [
        {
          "name": "stdout",
          "output_type": "stream",
          "text": [
            "qwiklabs-gcp-03-04c87f8786bd\n"
          ]
        }
      ],
      "source": [
        "import vertexai\n",
        "\n",
        "PROJECT_ID = ! gcloud config get-value project\n",
        "PROJECT_ID = PROJECT_ID[0]\n",
        "LOCATION = \"us-central1\" # @param {type:\"string\"}\n",
        "\n",
        "print(PROJECT_ID)\n",
        "\n",
        "vertexai.init(project=PROJECT_ID, location=LOCATION)"
      ]
    },
    {
      "cell_type": "code",
      "execution_count": 3,
      "id": "3333b75d-b2a1-451b-9f49-a93ded5c515e",
      "metadata": {
        "tags": [],
        "id": "3333b75d-b2a1-451b-9f49-a93ded5c515e",
        "executionInfo": {
          "status": "ok",
          "timestamp": 1727708015190,
          "user_tz": -330,
          "elapsed": 3044,
          "user": {
            "displayName": "",
            "userId": ""
          }
        }
      },
      "outputs": [],
      "source": [
        "import requests\n",
        "from vertexai.generative_models import (\n",
        "    Content,\n",
        "    FunctionDeclaration,\n",
        "    GenerationConfig,\n",
        "    GenerativeModel,\n",
        "    Part,\n",
        "    Tool,\n",
        ")"
      ]
    },
    {
      "cell_type": "code",
      "execution_count": 17,
      "id": "6b79f28a-4db9-47e2-8212-01097ea74b29",
      "metadata": {
        "tags": [],
        "id": "6b79f28a-4db9-47e2-8212-01097ea74b29",
        "executionInfo": {
          "status": "ok",
          "timestamp": 1727745629099,
          "user_tz": -330,
          "elapsed": 10,
          "user": {
            "displayName": "",
            "userId": ""
          }
        }
      },
      "outputs": [],
      "source": [
        "def reverse_string(text:str):\n",
        "    \"\"\"returns text[::-1]\"\"\"\n",
        "    print(\"Calling Reverse string function\")\n",
        "    reversed_string = \"\"\n",
        "    for i in range(len(text) - 1, -1, -1):\n",
        "    # Add each character to the reversed string.\n",
        "      reversed_string += text[i]\n",
        "    print(reversed_string)\n",
        "    return reversed_string\n",
        "\n",
        "def remove_whitespace(text:str):\n",
        "    \"\"\"returns text.replace(\" \", \"\")\"\"\"\n",
        "    print(\"Calling remove whitespace function\")\n",
        "    text = text.replace(\" \", \"\")\n",
        "    print(text)\n",
        "    return text\n",
        "\n",
        "\n",
        "reverse_info = FunctionDeclaration(\n",
        "    name=\"reverse_string\",\n",
        "    description=\"reverse the order of the string\",\n",
        "    parameters={\n",
        "        \"type\": \"object\",\n",
        "        \"properties\": {\n",
        "            \"text\": {\"type\": \"string\", \"description\": \"Text to reverse\"}\n",
        "        },\n",
        "    },\n",
        ")\n",
        "\n",
        "whitespace_info = FunctionDeclaration(\n",
        "    name=\"remove_whitespace\",\n",
        "    description=\"Remove whitespace characters from a string\",\n",
        "    parameters={\n",
        "        \"type\": \"object\",\n",
        "        \"properties\": {\n",
        "            \"text\": {\"type\": \"string\", \"description\": \"Text to remove white space\"}\n",
        "        },\n",
        "    },\n",
        ")\n",
        "\n",
        "\n",
        "text_tool = Tool(\n",
        "    function_declarations=[\n",
        "        reverse_info,\n",
        "        whitespace_info\n",
        "    ],\n",
        ")\n",
        "\n",
        "model = GenerativeModel(\n",
        "    \"gemini-1.5-pro-001\",\n",
        "    system_instruction=[\"\"\"Answer the user's question,\n",
        "    but do not do any text related functions yourself.\"\"\"],\n",
        "    tools=[text_tool]\n",
        "  )"
      ]
    },
    {
      "cell_type": "code",
      "execution_count": 18,
      "id": "58d3a340-d31d-4ca8-a718-6cae4db07b4e",
      "metadata": {
        "tags": [],
        "id": "58d3a340-d31d-4ca8-a718-6cae4db07b4e",
        "executionInfo": {
          "status": "ok",
          "timestamp": 1727745633275,
          "user_tz": -330,
          "elapsed": 3,
          "user": {
            "displayName": "",
            "userId": ""
          }
        }
      },
      "outputs": [],
      "source": [
        "def handle_response(response):\n",
        "\n",
        "  # If there is a function call then invoke it\n",
        "  # Otherwise print the response.\n",
        "  if response.candidates[0].function_calls:\n",
        "    function_call = response.candidates[0].function_calls[0]\n",
        "  else:\n",
        "    print(response.text)\n",
        "    return\n",
        "\n",
        "\n",
        "  if function_call.name == \"reverse_string\":\n",
        "      # Extract the arguments to use in your function\n",
        "      text = function_call.args[\"text\"]\n",
        "\n",
        "      # Call your function\n",
        "      result = reverse_string(text)\n",
        "\n",
        "      # Send the result back to the model\n",
        "      response = chat.send_message(\"{0}\".format(result))\n",
        "\n",
        "      # Recursive call\n",
        "      handle_response(response)\n",
        "\n",
        "  elif function_call.name == \"remove_whitespace\":\n",
        "      # Extract the arguments to use in your function\n",
        "      text = function_call.args[\"text\"]\n",
        "\n",
        "      # Call your function\n",
        "      result = remove_whitespace(text)\n",
        "\n",
        "      # Send the result back to the model\n",
        "      response = chat.send_message(\"{0}\".format(result))\n",
        "      # Recursive call\n",
        "      handle_response(response)\n",
        "  else:\n",
        "      # Shouldn't get here\n",
        "      print(function_call)"
      ]
    },
    {
      "cell_type": "code",
      "execution_count": 19,
      "id": "440ba616-9edb-4caa-bbf5-91dd2d308843",
      "metadata": {
        "tags": [],
        "id": "440ba616-9edb-4caa-bbf5-91dd2d308843",
        "executionInfo": {
          "status": "ok",
          "timestamp": 1727745634863,
          "user_tz": -330,
          "elapsed": 3,
          "user": {
            "displayName": "",
            "userId": ""
          }
        }
      },
      "outputs": [],
      "source": [
        "chat = model.start_chat()"
      ]
    },
    {
      "cell_type": "code",
      "execution_count": 20,
      "id": "29abfca2-3bb3-426c-949a-b1086f60534a",
      "metadata": {
        "tags": [],
        "colab": {
          "base_uri": "https://localhost:8080/"
        },
        "id": "29abfca2-3bb3-426c-949a-b1086f60534a",
        "executionInfo": {
          "status": "ok",
          "timestamp": 1727745638232,
          "user_tz": -330,
          "elapsed": 666,
          "user": {
            "displayName": "",
            "userId": ""
          }
        },
        "outputId": "0a6fb639-0ccb-49f4-db90-a945de08466e"
      },
      "outputs": [
        {
          "output_type": "stream",
          "name": "stdout",
          "text": [
            "I am sorry, I cannot fulfill this request. The available tools lack the desired functionality. \n",
            "\n"
          ]
        }
      ],
      "source": [
        "response = chat.send_message(\"Tell me a joke.\")\n",
        "handle_response(response)"
      ]
    },
    {
      "cell_type": "code",
      "execution_count": 21,
      "id": "94a32814-41c8-44ea-98d1-c4d60f631056",
      "metadata": {
        "tags": [],
        "colab": {
          "base_uri": "https://localhost:8080/"
        },
        "id": "94a32814-41c8-44ea-98d1-c4d60f631056",
        "executionInfo": {
          "status": "ok",
          "timestamp": 1727745645126,
          "user_tz": -330,
          "elapsed": 4116,
          "user": {
            "displayName": "",
            "userId": ""
          }
        },
        "outputId": "233a4c73-ea4e-4b7b-e519-b8445135c0c9"
      },
      "outputs": [
        {
          "output_type": "stream",
          "name": "stdout",
          "text": [
            "Calling Reverse string function\n",
            "dlrow olleH\n",
            "Calling remove whitespace function\n",
            "dlrowolleH\n",
            "Calling Reverse string function\n",
            "Helloworld\n",
            "That's funny! You reversed the word order AND removed the space! \n",
            "\n"
          ]
        }
      ],
      "source": [
        "response = chat.send_message(\"Reverse the following string: Hello world\")\n",
        "handle_response(response)"
      ]
    },
    {
      "cell_type": "code",
      "execution_count": 22,
      "id": "5b1b513c-3f27-4058-9eb4-c68b988ae63e",
      "metadata": {
        "tags": [],
        "colab": {
          "base_uri": "https://localhost:8080/"
        },
        "id": "5b1b513c-3f27-4058-9eb4-c68b988ae63e",
        "executionInfo": {
          "status": "ok",
          "timestamp": 1727745719299,
          "user_tz": -330,
          "elapsed": 1344,
          "user": {
            "displayName": "",
            "userId": ""
          }
        },
        "outputId": "42652e2c-0214-4a48-a333-60d62128dc8f"
      },
      "outputs": [
        {
          "output_type": "stream",
          "name": "stdout",
          "text": [
            "Calling remove whitespace function\n",
            "hello@world.com\n",
            "You got it! \n",
            "\n"
          ]
        }
      ],
      "source": [
        "response = chat.send_message(\"Remove the white spaces from the following word: hello @ world. com\")\n",
        "handle_response(response)"
      ]
    },
    {
      "cell_type": "code",
      "execution_count": 23,
      "id": "65361f30-f82f-4756-9441-188d3253db9a",
      "metadata": {
        "colab": {
          "base_uri": "https://localhost:8080/"
        },
        "id": "65361f30-f82f-4756-9441-188d3253db9a",
        "executionInfo": {
          "status": "ok",
          "timestamp": 1727745728210,
          "user_tz": -330,
          "elapsed": 2789,
          "user": {
            "displayName": "",
            "userId": ""
          }
        },
        "outputId": "884b531b-dc64-496b-9674-b59989543aa4"
      },
      "outputs": [
        {
          "output_type": "stream",
          "name": "stdout",
          "text": [
            "Calling remove whitespace function\n",
            "Idonotunderstandthenewsentence.\n",
            "Calling Reverse string function\n",
            ".ecnetneswenehtdnatsrednutonodI\n",
            "That's right! \n",
            "\n"
          ]
        }
      ],
      "source": [
        "response = chat.send_message(\"Reverse the following string and remove spaces: I do not understand the new sentence.\")\n",
        "handle_response(response)"
      ]
    },
    {
      "cell_type": "code",
      "source": [
        "response = chat.send_message(\"Tell me a fact. Then remove the spaces in the fact text and then reverse the fact text.\")\n",
        "print(response.candidates[0].content.parts[0].text)\n",
        "handle_response(response)"
      ],
      "metadata": {
        "colab": {
          "base_uri": "https://localhost:8080/"
        },
        "id": "PIziddHBb4df",
        "executionInfo": {
          "status": "ok",
          "timestamp": 1727745752187,
          "user_tz": -330,
          "elapsed": 1544,
          "user": {
            "displayName": "",
            "userId": ""
          }
        },
        "outputId": "ef899368-dafa-4c00-cbef-09e7a097e212"
      },
      "id": "PIziddHBb4df",
      "execution_count": 24,
      "outputs": [
        {
          "output_type": "stream",
          "name": "stdout",
          "text": [
            "I am sorry, I cannot fulfill this request. The available tools lack the desired functionality. \n",
            "\n",
            "I am sorry, I cannot fulfill this request. The available tools lack the desired functionality. \n",
            "\n"
          ]
        }
      ]
    }
  ],
  "metadata": {
    "environment": {
      "kernel": "conda-base-py",
      "name": "workbench-notebooks.m125",
      "type": "gcloud",
      "uri": "us-docker.pkg.dev/deeplearning-platform-release/gcr.io/workbench-notebooks:m125"
    },
    "kernelspec": {
      "display_name": "Python 3 (ipykernel) (Local) (Local)",
      "language": "python",
      "name": "conda-base-py"
    },
    "language_info": {
      "codemirror_mode": {
        "name": "ipython",
        "version": 3
      },
      "file_extension": ".py",
      "mimetype": "text/x-python",
      "name": "python",
      "nbconvert_exporter": "python",
      "pygments_lexer": "ipython3",
      "version": "3.10.15"
    },
    "colab": {
      "provenance": []
    }
  },
  "nbformat": 4,
  "nbformat_minor": 5
}