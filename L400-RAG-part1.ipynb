{
  "cells": [
    {
      "cell_type": "code",
      "execution_count": 1,
      "id": "94f3f8f5-947f-4031-a27f-f9af609a8f6b",
      "metadata": {
        "tags": [],
        "colab": {
          "base_uri": "https://localhost:8080/"
        },
        "id": "94f3f8f5-947f-4031-a27f-f9af609a8f6b",
        "executionInfo": {
          "status": "ok",
          "timestamp": 1729917837009,
          "user_tz": -330,
          "elapsed": 29549,
          "user": {
            "displayName": "",
            "userId": ""
          }
        },
        "outputId": "27ed692b-1dec-470c-a472-e781c7a14abb"
      },
      "outputs": [
        {
          "output_type": "stream",
          "name": "stdout",
          "text": [
            "\u001b[2K     \u001b[90m━━━━━━━━━━━━━━━━━━━━━━━━━━━━━━━━━━━━━━━━\u001b[0m \u001b[32m50.6/50.6 kB\u001b[0m \u001b[31m5.2 MB/s\u001b[0m eta \u001b[36m0:00:00\u001b[0m\n",
            "\u001b[2K   \u001b[90m━━━━━━━━━━━━━━━━━━━━━━━━━━━━━━━━━━━━━━━━\u001b[0m \u001b[32m336.8/336.8 kB\u001b[0m \u001b[31m11.8 MB/s\u001b[0m eta \u001b[36m0:00:00\u001b[0m\n",
            "\u001b[2K   \u001b[90m━━━━━━━━━━━━━━━━━━━━━━━━━━━━━━━━━━━━━━━━\u001b[0m \u001b[32m1.0/1.0 MB\u001b[0m \u001b[31m40.0 MB/s\u001b[0m eta \u001b[36m0:00:00\u001b[0m\n",
            "\u001b[2K   \u001b[90m━━━━━━━━━━━━━━━━━━━━━━━━━━━━━━━━━━━━━━━━\u001b[0m \u001b[32m88.6/88.6 kB\u001b[0m \u001b[31m8.2 MB/s\u001b[0m eta \u001b[36m0:00:00\u001b[0m\n",
            "\u001b[2K   \u001b[90m━━━━━━━━━━━━━━━━━━━━━━━━━━━━━━━━━━━━━━━━\u001b[0m \u001b[32m2.4/2.4 MB\u001b[0m \u001b[31m78.5 MB/s\u001b[0m eta \u001b[36m0:00:00\u001b[0m\n",
            "\u001b[2K   \u001b[90m━━━━━━━━━━━━━━━━━━━━━━━━━━━━━━━━━━━━━━━━\u001b[0m \u001b[32m208.1/208.1 kB\u001b[0m \u001b[31m19.8 MB/s\u001b[0m eta \u001b[36m0:00:00\u001b[0m\n",
            "\u001b[2K   \u001b[90m━━━━━━━━━━━━━━━━━━━━━━━━━━━━━━━━━━━━━━━━\u001b[0m \u001b[32m19.6/19.6 MB\u001b[0m \u001b[31m78.8 MB/s\u001b[0m eta \u001b[36m0:00:00\u001b[0m\n",
            "\u001b[2K   \u001b[90m━━━━━━━━━━━━━━━━━━━━━━━━━━━━━━━━━━━━━━━━\u001b[0m \u001b[32m130.5/130.5 kB\u001b[0m \u001b[31m13.5 MB/s\u001b[0m eta \u001b[36m0:00:00\u001b[0m\n",
            "\u001b[2K   \u001b[90m━━━━━━━━━━━━━━━━━━━━━━━━━━━━━━━━━━━━━━━━\u001b[0m \u001b[32m76.4/76.4 kB\u001b[0m \u001b[31m8.8 MB/s\u001b[0m eta \u001b[36m0:00:00\u001b[0m\n",
            "\u001b[2K   \u001b[90m━━━━━━━━━━━━━━━━━━━━━━━━━━━━━━━━━━━━━━━━\u001b[0m \u001b[32m78.0/78.0 kB\u001b[0m \u001b[31m9.8 MB/s\u001b[0m eta \u001b[36m0:00:00\u001b[0m\n",
            "\u001b[2K   \u001b[90m━━━━━━━━━━━━━━━━━━━━━━━━━━━━━━━━━━━━━━━━\u001b[0m \u001b[32m408.0/408.0 kB\u001b[0m \u001b[31m33.5 MB/s\u001b[0m eta \u001b[36m0:00:00\u001b[0m\n",
            "\u001b[2K   \u001b[90m━━━━━━━━━━━━━━━━━━━━━━━━━━━━━━━━━━━━━━━━\u001b[0m \u001b[32m296.9/296.9 kB\u001b[0m \u001b[31m26.8 MB/s\u001b[0m eta \u001b[36m0:00:00\u001b[0m\n",
            "\u001b[2K   \u001b[90m━━━━━━━━━━━━━━━━━━━━━━━━━━━━━━━━━━━━━━━━\u001b[0m \u001b[32m49.5/49.5 kB\u001b[0m \u001b[31m5.4 MB/s\u001b[0m eta \u001b[36m0:00:00\u001b[0m\n",
            "\u001b[2K   \u001b[90m━━━━━━━━━━━━━━━━━━━━━━━━━━━━━━━━━━━━━━━━\u001b[0m \u001b[32m144.5/144.5 kB\u001b[0m \u001b[31m11.9 MB/s\u001b[0m eta \u001b[36m0:00:00\u001b[0m\n",
            "\u001b[2K   \u001b[90m━━━━━━━━━━━━━━━━━━━━━━━━━━━━━━━━━━━━━━━━\u001b[0m \u001b[32m54.5/54.5 kB\u001b[0m \u001b[31m5.5 MB/s\u001b[0m eta \u001b[36m0:00:00\u001b[0m\n",
            "\u001b[2K   \u001b[90m━━━━━━━━━━━━━━━━━━━━━━━━━━━━━━━━━━━━━━━━\u001b[0m \u001b[32m58.3/58.3 kB\u001b[0m \u001b[31m6.6 MB/s\u001b[0m eta \u001b[36m0:00:00\u001b[0m\n",
            "\u001b[?25h"
          ]
        }
      ],
      "source": [
        "!pip install --quiet --upgrade google_cloud_firestore google_cloud_aiplatform langchain langchain-google-vertexai langchain_community langchain_experimental pymupdf"
      ]
    },
    {
      "cell_type": "code",
      "execution_count": 2,
      "id": "c40194b9-e012-40be-9879-b1394280f47c",
      "metadata": {
        "tags": [],
        "colab": {
          "base_uri": "https://localhost:8080/"
        },
        "id": "c40194b9-e012-40be-9879-b1394280f47c",
        "executionInfo": {
          "status": "ok",
          "timestamp": 1729917865132,
          "user_tz": -330,
          "elapsed": 5,
          "user": {
            "displayName": "",
            "userId": ""
          }
        },
        "outputId": "b55b1f7d-3ce4-4331-a7a1-d4225be4a134"
      },
      "outputs": [
        {
          "output_type": "execute_result",
          "data": {
            "text/plain": [
              "{'status': 'ok', 'restart': True}"
            ]
          },
          "metadata": {},
          "execution_count": 2
        }
      ],
      "source": [
        "# Restart kernel after installs so that your environment can access the new packages\n",
        "import IPython\n",
        "\n",
        "app = IPython.Application.instance()\n",
        "app.kernel.do_shutdown(True)"
      ]
    },
    {
      "cell_type": "code",
      "execution_count": 1,
      "id": "4c7d86f8-0fad-41fb-a0fc-28bee48d9cae",
      "metadata": {
        "tags": [],
        "id": "4c7d86f8-0fad-41fb-a0fc-28bee48d9cae",
        "executionInfo": {
          "status": "ok",
          "timestamp": 1729917890226,
          "user_tz": -330,
          "elapsed": 13218,
          "user": {
            "displayName": "",
            "userId": ""
          }
        }
      },
      "outputs": [],
      "source": [
        "import vertexai\n",
        "from vertexai.language_models import TextEmbeddingModel\n",
        "from vertexai.generative_models import GenerativeModel\n",
        "\n",
        "import pickle\n",
        "from IPython.display import display, Markdown\n",
        "\n",
        "from langchain_google_vertexai import VertexAIEmbeddings\n",
        "from langchain_community.document_loaders import PyMuPDFLoader\n",
        "from langchain_experimental.text_splitter import SemanticChunker\n",
        "\n",
        "from google.cloud import firestore\n",
        "from google.cloud.firestore_v1.vector import Vector\n",
        "from google.cloud.firestore_v1.base_vector_query import DistanceMeasure"
      ]
    },
    {
      "cell_type": "code",
      "execution_count": 2,
      "id": "eb1421e9-8a74-4779-964c-bfd8fbb0d0c2",
      "metadata": {
        "tags": [],
        "colab": {
          "base_uri": "https://localhost:8080/"
        },
        "id": "eb1421e9-8a74-4779-964c-bfd8fbb0d0c2",
        "executionInfo": {
          "status": "ok",
          "timestamp": 1729917896461,
          "user_tz": -330,
          "elapsed": 2459,
          "user": {
            "displayName": "",
            "userId": ""
          }
        },
        "outputId": "ce50d85e-ce50-421f-8285-e28875989d3a"
      },
      "outputs": [
        {
          "output_type": "stream",
          "name": "stdout",
          "text": [
            "Vertex AI SDK version: 1.70.0\n"
          ]
        }
      ],
      "source": [
        "import vertexai\n",
        "from google.cloud import aiplatform\n",
        "\n",
        "PROJECT_ID = ! gcloud config get-value project\n",
        "PROJECT_ID = PROJECT_ID[0]\n",
        "LOCATION = \"us-central1\" # @param {type:\"string\"}\n",
        "\n",
        "# define project information manually if the above code didn't work\n",
        "if PROJECT_ID == \"(unset)\":\n",
        "  PROJECT_ID = \"qwiklabs-gcp-02-6db37dc5a410\" # @param {type:\"string\"}\n",
        "\n",
        "vertexai.init(project=PROJECT_ID, location=LOCATION)\n",
        "print(f\"Vertex AI SDK version: {aiplatform.__version__}\")"
      ]
    },
    {
      "cell_type": "code",
      "execution_count": 14,
      "id": "a6bdbb97-7fc2-4b61-b1e1-da81be3969dd",
      "metadata": {
        "tags": [],
        "id": "a6bdbb97-7fc2-4b61-b1e1-da81be3969dd",
        "executionInfo": {
          "status": "ok",
          "timestamp": 1729919012195,
          "user_tz": -330,
          "elapsed": 719,
          "user": {
            "displayName": "",
            "userId": ""
          }
        }
      },
      "outputs": [],
      "source": [
        "# Initialize the a specific Embeddings Model version\n",
        "embeddings = VertexAIEmbeddings(\"text-embedding-004\")"
      ]
    },
    {
      "cell_type": "code",
      "execution_count": 4,
      "id": "27ed80ce-00dc-4c80-bf5c-4ddac7002ac8",
      "metadata": {
        "tags": [],
        "colab": {
          "base_uri": "https://localhost:8080/"
        },
        "id": "27ed80ce-00dc-4c80-bf5c-4ddac7002ac8",
        "executionInfo": {
          "status": "ok",
          "timestamp": 1729917911311,
          "user_tz": -330,
          "elapsed": 2316,
          "user": {
            "displayName": "",
            "userId": ""
          }
        },
        "outputId": "2b8dafa6-e59e-4ce4-f8bd-aea9afd7a5a6"
      },
      "outputs": [
        {
          "output_type": "stream",
          "name": "stdout",
          "text": [
            "Copying gs://partner-genai-bucket/genai069/nyc_food_safety_manual.pdf to file://./nyc_food_safety_manual.pdf\n",
            "\n",
            "Average throughput: 75.6MiB/s\n"
          ]
        }
      ],
      "source": [
        "!gcloud storage cp gs://partner-genai-bucket/genai069/nyc_food_safety_manual.pdf ."
      ]
    },
    {
      "cell_type": "code",
      "execution_count": 32,
      "id": "90b4b6b2-b90f-4f40-bfb4-82282cc7674f",
      "metadata": {
        "tags": [],
        "colab": {
          "base_uri": "https://localhost:8080/"
        },
        "id": "90b4b6b2-b90f-4f40-bfb4-82282cc7674f",
        "executionInfo": {
          "status": "ok",
          "timestamp": 1729920641171,
          "user_tz": -330,
          "elapsed": 658,
          "user": {
            "displayName": "",
            "userId": ""
          }
        },
        "outputId": "098cf9c5-a67a-4a84-f71b-e92f2af9dc84"
      },
      "outputs": [
        {
          "output_type": "execute_result",
          "data": {
            "text/plain": [
              "Document(metadata={'source': './nyc_food_safety_manual.pdf', 'file_path': './nyc_food_safety_manual.pdf', 'page': 0, 'total_pages': 94, 'format': 'PDF 1.6', 'title': 'FOR BIND Food Protect Manual rev6 14_Conv-Sig', 'author': 'Hizzoner', 'subject': '', 'keywords': '', 'creator': 'QuarkXPress 8.5', 'producer': 'Acrobat Distiller 8.0.0 (Macintosh)', 'creationDate': \"D:20140624124242-04'00'\", 'modDate': \"D:20151112105727-05'00'\", 'trapped': ''}, page_content='The Health Code\\nThese are regulations that were\\nformulated to allow the  Department\\nto effectively protect the health of the\\npopulation. Among the rules\\nembodied in the Health Code is\\nArticle 81 which regulates the oper-\\nations of food establishments for\\nthe purpose of preventing public\\nhealth hazards.\\nEnvironmental Health Division \\nThe Division of Environmental\\nHealth is the Commission within the\\nHealth Department that is concerned\\nwith public health and works to\\neliminate the incidence of injury and\\nillness caused by environmental factors.\\nThere are several Offices and\\nBureaus within this division. One\\nof these is the Bureau of Food\\nSafety and Community Sanitation\\nthat has the responsibility for con-\\nducting inspections of food service\\nand food processing establishments.\\nThese inspections are performed by\\nPublic Health Sanitarians.\\nAnti-corruption Warning\\nAll Sanitarians have Department\\nof Health and Mental Hygiene\\nbadges and identification cards\\nwhich they must display whenever\\nit is requested of them.\\nIt is illegal to offer a Sanitarian\\nany bribe, gratuity or reward for\\nofficial misconduct; this is a crime\\nthat can result in fines, and /or\\nimprisonment, and the revocation\\nof permits. Also, Sanitarians are not\\nauthorized to conduct any monetary\\ntransactions on behalf of the\\nDepartment.\\nInspector General\\nThis is an office that exists within\\nthe Health Department with the\\nresponsibility of investigating any\\nincidence of alleged corrupt activity.\\nInvestigations may be conducted as\\na result of complaints by employees\\nof the Department or members of\\nthe public.\\nHealth Academy\\nThe Health Academy is an office\\nwithin the Division of Environmental\\nHealth. One of its responsibilities is\\nto provide training and certification\\ncourses for individuals from the public\\nas mandated by the Health Code.\\nThe Food Protection Course is one\\nof the courses taught here. The Food\\nProtection Course is required by the\\nHealth Code for supervisors of food\\nservice establishments and non-retail\\nfood processing establishments. These\\nindividuals must take the course and\\npass an examination before a certifi-\\ncate is issued to them. A person\\nholding such a certificate must be on\\nthe premises and supervise all food\\npreparation activities during all hours\\nof operation. Several supervisors with\\nthis certification may be needed at an\\nestablishment to have coverage dur-\\ning all shifts, vacations or illnesses.\\nThe Food Protection Manual has\\nbeen designed to assist participants\\nof the course to better understand\\nthe principles of safe food handling.\\nIt serves as a reference for food ser-\\nvice operators and it includes the\\nnecessary information to pass the\\nfinal examination.\\nOn-Line Food Protection Course\\nThe Food Protection Course in\\nEnglish, Spanish and Chinese is\\nnow also available on-line. This\\ncourse is designed for individuals with\\nbusy schedules to study at their con-\\nvenience. After the completion of\\nthe course, a final examination is\\nscheduled at the Health Academy.\\nRegistration is done on-line. The\\nlink is: nyc.gov/foodprotectioncourse\\nRegister for Health Academy\\nClasses On-Line\\nYou may now register and pay\\nonline for courses offered at the\\nDepartment of Health and Mental\\nHygiene’s Health Academy, includ-\\ning the Food Protection Course for\\nrestaurants. This new service allows\\nyou to avoid going to the Citywide\\nLicensing Center to register for a\\ncourse. You may also use the on-line\\nservice to pay for and request an\\nappointment to replace your Food\\nProtection Certificate.\\nHow does it work?\\nGo to the registration web page,\\nnyc.gov/healthacademy, select a\\ncourse and date, pay the appropriate\\nfee and receive confirmation. \\nYou will be asked to provide some\\npersonal information before regis-\\ntering. In most cases, you will be\\nable to select from a list of course\\ndates. If you don’t see a date that is\\nconvenient, check back as new\\ncourse dates are added frequently.\\n1\\nfo d\\nP R O T E C T I O N  T R A I N I N G  M A N U A L\\nN E W  Y O R K  C I T Y  D E P A R T M E N T  O F  H E A L T H  &  M E N T A L  H Y G I E N E\\nINTRODUCTION\\nT\\nhe New York City Department of Health and Mental\\nHygiene has the jurisdiction to regulate all matters\\naffecting health in the city and to perform all those\\nfunctions and operations that relate to the health of the people\\nof the city.\\nINTRODUCTION\\n')"
            ]
          },
          "metadata": {},
          "execution_count": 32
        }
      ],
      "source": [
        "loader = PyMuPDFLoader(\"./nyc_food_safety_manual.pdf\")\n",
        "data = loader.load()\n",
        "data[0]"
      ]
    },
    {
      "cell_type": "code",
      "execution_count": 6,
      "id": "29f2bfdf-17ea-4f75-b9be-bea9e2176cf1",
      "metadata": {
        "tags": [],
        "id": "29f2bfdf-17ea-4f75-b9be-bea9e2176cf1",
        "executionInfo": {
          "status": "ok",
          "timestamp": 1729917919149,
          "user_tz": -330,
          "elapsed": 804,
          "user": {
            "displayName": "",
            "userId": ""
          }
        }
      },
      "outputs": [],
      "source": [
        "def clean_page(page):\n",
        "  return page.page_content.replace(\"-\\n\",\"\")\\\n",
        "                          .replace(\"\\n\",\" \")\\\n",
        "                          .replace(\"\\x02\",\"\")\\\n",
        "                          .replace(\"\\x03\",\"\")\\\n",
        "                          .replace(\"fo d P R O T E C T I O N  T R A I N I N G  M A N U A L\",\"\")\\\n",
        "                          .replace(\"N E W  Y O R K  C I T Y  D E P A R T M E N T  O F  H E A L T H  &  M E N T A L  H Y G I E N E\",\"\")"
      ]
    },
    {
      "cell_type": "code",
      "execution_count": 37,
      "id": "01ea1ff0-8caa-4d84-b7be-62eeae7f5849",
      "metadata": {
        "tags": [],
        "colab": {
          "base_uri": "https://localhost:8080/"
        },
        "id": "01ea1ff0-8caa-4d84-b7be-62eeae7f5849",
        "executionInfo": {
          "status": "ok",
          "timestamp": 1729920725302,
          "user_tz": -330,
          "elapsed": 687,
          "user": {
            "displayName": "",
            "userId": ""
          }
        },
        "outputId": "151f1af5-ff8c-4ace-b7a9-8f5245e3e512"
      },
      "outputs": [
        {
          "output_type": "execute_result",
          "data": {
            "text/plain": [
              "['The Health Code These are regulations that were formulated to allow the  Department to effectively protect the health of the population. Among the rules embodied in the Health Code is Article 81 which regulates the operations of food establishments for the purpose of preventing public health hazards. Environmental Health Division  The Division of Environmental Health is the Commission within the Health Department that is concerned with public health and works to eliminate the incidence of injury and illness caused by environmental factors. There are several Offices and Bureaus within this division. One of these is the Bureau of Food Safety and Community Sanitation that has the responsibility for conducting inspections of food service and food processing establishments. These inspections are performed by Public Health Sanitarians. Anti-corruption Warning All Sanitarians have Department of Health and Mental Hygiene badges and identification cards which they must display whenever it is requested of them. It is illegal to offer a Sanitarian any bribe, gratuity or reward for official misconduct; this is a crime that can result in fines, and /or imprisonment, and the revocation of permits. Also, Sanitarians are not authorized to conduct any monetary transactions on behalf of the Department. Inspector General This is an office that exists within the Health Department with the responsibility of investigating any incidence of alleged corrupt activity. Investigations may be conducted as a result of complaints by employees of the Department or members of the public. Health Academy The Health Academy is an office within the Division of Environmental Health. One of its responsibilities is to provide training and certification courses for individuals from the public as mandated by the Health Code. The Food Protection Course is one of the courses taught here. The Food Protection Course is required by the Health Code for supervisors of food service establishments and non-retail food processing establishments. These individuals must take the course and pass an examination before a certificate is issued to them. A person holding such a certificate must be on the premises and supervise all food preparation activities during all hours of operation. Several supervisors with this certification may be needed at an establishment to have coverage during all shifts, vacations or illnesses. The Food Protection Manual has been designed to assist participants of the course to better understand the principles of safe food handling. It serves as a reference for food service operators and it includes the necessary information to pass the final examination. On-Line Food Protection Course The Food Protection Course in English, Spanish and Chinese is now also available on-line. This course is designed for individuals with busy schedules to study at their convenience. After the completion of the course, a final examination is scheduled at the Health Academy. Registration is done on-line. The link is: nyc.gov/foodprotectioncourse Register for Health Academy Classes On-Line You may now register and pay online for courses offered at the Department of Health and Mental Hygiene’s Health Academy, including the Food Protection Course for restaurants. This new service allows you to avoid going to the Citywide Licensing Center to register for a course. You may also use the on-line service to pay for and request an appointment to replace your Food Protection Certificate. How does it work? Go to the registration web page, nyc.gov/healthacademy, select a course and date, pay the appropriate fee and receive confirmation.  You will be asked to provide some personal information before registering. In most cases, you will be able to select from a list of course dates. If you don’t see a date that is convenient, check back as new course dates are added frequently. 1   INTRODUCTION T he New York City Department of Health and Mental Hygiene has the jurisdiction to regulate all matters affecting health in the city and to perform all those functions and operations that relate to the health of the people of the city. INTRODUCTION ',\n",
              " 'The United States has one of the safest food safety systems in the world, yet millions of Americans still get sick each year from eating contaminated foods; hundreds of thousands are hospitalized; and several thousand die. This means that there is still tremendous room for improvement in food safety standards. Most food-borne illnesses are caused by improper handling of food. The statistics from the Centers for Disease Control (CDC) show that some of the most common causes of foodborne illness are:  Sick food worker  Poor personal Hygiene/Bare hand contact  Improper holding temperatures  Improper cooling  Inadequate cooking and reheating  Cross contamination  Use of food from unknown source What is Food-Borne Illness? Any illness that is caused by food is called food-borne illness. A foodborne illness outbreak is defined as any incident involving two or more persons becoming ill with similar symptoms from the same source. Typically these illnesses are a direct result of contamination of food by harmful microorganisms, (commonly called germs) such as bacteria, viruses, parasites, fungi etc. Injury and illness caused by foreign objects, dangerous chemicals and/or allergens in food is also considered a foodborne illness. Who is at Risk? We are all at risk of getting a food borne illness; however, the effects are more severe for certain categories of individuals:  Children whose immune system (human body’s defense system against diseases) is not fully developed yet.  Elderly individuals because their immune system is not robust anymore and has weakened due to old age.  Pregnant women where the threat is both to the mother and the fetus.  Individuals with compromised immune systems e.g., Patients with AIDS, cancer  or individuals who are diabetics, etc.  People on medication (antibiotics, immunosuppressant, etc.). What is food? Food is any edible substance, ice, beverage, or ingredient intended for use and used or sold for human consumption. What are Potentially Hazardous Foods (PHF)? This expression refers to those foods that provide suitable conditions for rapid growth of microorganisms. These include foods that are high in protein like raw or cooked animal products such as meats, poultry, fish, shellfish (mollusks as well as crustaceans), milk and milk products (cheese, butter milk, heavy cream etc.,), plant protein such as tofu, and starches such as cooked rice, cooked pasta, cooked beans and cooked vegetables like potatoes, cut melons, cut leafy greens, cut tomatoes or mixtures of cut tomatoes, as well as raw seed sprouts and garlic in oil. Exceptions: Those foods that have a low water activity (.85 or less) or those that are highly acidic with a pH of 4.6 or below. Air-cooled hard-boiled eggs with shells intact. 2   INTRODUCTION TO FOOD SAFETY QUICK REVIEW 1. All food service establishments must have a current and valid permit issued by the NYC Health Department.  TRUE  FALSE 2. Health Inspectors have the right to inspect a food service or food processing establishment as long as it is in operation. Inspectors must be given access to all areas of establishment during an inspection.  TRUE  FALSE 3. Health Inspectors are authorized to collect permit fees and fines on behalf of the Department.  TRUE  FALSE 4. Health Inspectors must show their photo identification and badge to the person in charge of an establishment.  TRUE  FALSE 5. According to the NYC Health Code, who is required to have a Food Protection Certificate? ________________________________. Potentially Hazardous Foods ',\n",
              " 'What is Ready-To- Eat Food? Any food product that does not need additional heat treatment or washing is called ready-to-eat food.  Extra care must be taken to ensure the safety of these foods.  Where do we purchase foods? All foods must be purchased from approved sources. These are manufacturers and suppliers who comply with all the rules and regulations that pertain to the production of their product, including having the How do we store potentially hazardous foods? All foods must be kept free from adulteration, spoilage, filth or other contamination in order to be suitable for human consumption. Potentially hazardous foods are of particular concern because they provide the conditions suitable for the growth of microorganisms. These foods must be kept either hot or cold to prevent microorganisms from growing. Hot means 140°F or above and cold means 41°F or below. The temperature range between 41°F and 140°F is known as the temperature danger zone. It is within this range that microorganisms are comfortable and will grow rapidly. At 41°F and below, the temperature is cold enough to retard or slow down the growth of microorganisms, while above 140°F most of the microorganisms which cause foodborne illness begin to die. Thermometers The only safe way to determine that potentially hazardous foods are kept out of the temperature danger zone is by the use of thermometers. There are several different types of thermometers. The bi-metallic stem is the most popular type. It is fairly inexpensive, easy to use, accurate to + or – 2°F and easy to re-calibrate. Also, it is available within the range of 0° to 220°F making it ideal for measuring the required temperatures in a food establishment. Another thermometer in use is the thermocouple which is very accurate but fairly expensive. Lastly, there is a thermometer called thermistor, which has a digital read out and is commonly called \"digital thermometer.\" These thermometers are used by inserting the probe into the thickest part or the geometric center of the food item being measured. The stem thermometer must remain in the food until the indicator stops moving  before the reading is taken and must be recalibrated periodically to assure accuracy. Calibration Thermometers must be calibrated to ensure their accuracy. For thermocouple thermometers, follow the instructions provided by the manufacturer. For some thermistor thermometers, placing the thermometer in 50/50 solution of ice and water or boiling water, and hitting the “reset” button will automatically calibrate the thermometer. Bi-metallic stem thermometers may be calibrated by two methods: Boiling-Point Method Ice-Point method Boiling-Point Method  Bring water to a boil.  Place the thermometer probe (stem) into the boiling water. Make sure that the thermometer probe does not touch the bottom or sides of the pan. Wait until the indicator stops moving, then record the temperature.  If the temperature is 212°F, do nothing, the thermometer is accurate. (This is the temperature of boiling water at sea level.)  If the temperature is not 212°F, rotate the hex-adjusting nut using a wrench or other tool until the indicator is at 212°F. 3   Bi-metallic Thermometer Cold temperature reading calibration Thermocouple Thermometer necessary permits to operate. The use of foods prepared at home or in an unlicensed establishment is prohibited. The Temperature Danger Zone? Most microorganisms that cause foodborne illness typically grow best between temperatures of 41°F and 140°F. This is commonly referred to as the temperature danger zone. One of the basic and simplest ways to keep food safe is by keeping it out of the temperature danger zone. 212°  165°  140°  41°  32°  0°  DANGER\\x01 ZONE Temperature Danger Zone  ',\n",
              " 'Ice-Point Method  Fill a container with ice and water to make a 50/50 ice water slush.  Stir the slush.   Place the thermometer probe so that it is completely submerged in the ice-water slush, taking care not to touch the sides or the bottom. Wait until the indicator needle stops moving, then record the temperature.  If the temperature is 32°F, do nothing, the thermometer is accurate. (A 50/50 ice water slush will always have a temperature of 32°F at sea-level.) If the tempearture is not 32°F, rotate the hexadjusting nut until the indicator needle is at 32°F. How to use a Thermometer The following describes the proper method of using thermometers:  Sanitize the probe by the use of alcohol wipes. This is a fairly safe and common practice. Other methods such as immersion in water with a temperature of 170°F for 30 seconds or in a chemical sanitizing solution of 50 PPM for at least one minute, or swabbing with a chlorine sanitizing solution of 100 PPM are also acceptable.  Measure the internal product temperature by inserting the probe into the thickest part or the center of the product. It is recommended that the temperature readings be taken at several points.  Whenever using a bi-metallic thermometer, ensure that the entire sensing portion – from the tip of the probe to the indentation on the stem, is inserted in to the food product.  Wait for roughly 15 seconds or until the reading is steady before recording it.  Clean and sanitize the thermometer for later use. T he first opportunity one has to ensure that food is safe is at the point of receiving. At this point care must be taken to ensure that all products come from approved sources and/or reliable and reputable suppliers. Incoming supplies must be received at a time when it is convenient to inspect them and place them into storage promptly. There are various qualities and conditions one should look for in different food items. Beef Incoming supplies of beef can be received either fresh or frozen. Fresh beef should be at 41°F or below while frozen beef should be at 0°F or below. Beef should be bright to dark red in color with no objectionable odor. To ensure that the supply is from an approved source, look for the United States Department of Agriculture inspection stamp. This can be found on the sides of the beef carcass or on the box when receiving portions of the carcass. This inspection is mandatory and the stamp indicates that the meat is sanitary, wholesome and fit for human consumption. Also found may be a grade stamp which attests to the quality of the meat and will certainly have an impact on its price. The inspection stamp is the more important of the two stamps. Lamb Lamb, like beef, may have an inspection stamp as well as a grade stamp. When fresh, it is light red in color and has no objectionable odor and the flesh is firm and elastic. Fresh lamb is received at 41°F and frozen at or below 0°F. (See stamps below) Pork Pork is also subject to USDA inspection. The flesh is light colored while the fat is white. A good way to check for spoilage is to insert a knife into the flesh all the way to the bone and check the blade for any off odors. (See stamps below) Chicken and Poultry Chicken and poultry are subject to USDA inspection which must be verified by the inspection stamp. (See stamps below) These must be received either fresh at 41°F and below or frozen at 0°F or less, as they are naturally contaminated with the micro-organism Salmonella which must be kept under control. 4   USDA Poultry Inspection Stamp USDA Poultry Grade Stamp USDA Meat Inspection Stamp USDA Meat Grade Stamp RECEIVING FOODS ',\n",
              " 'Fresh fish There is no inspection for fresh fish other than what can be done by sight and touch and one’s sense of smell. This makes it more important to purchase supplies from reputable and reliable suppliers. Fresh fish must be received cold and on ice, 41°F or less, with no objectionable odor. The eyes must be clear and bulging, the gills bright red and the flesh firm and elastic. Fish that is spoiling will have a fishy odor; the eyes cloudy, red rimmed and sunken; the gills grey or greenish; the flesh will pit on pressure and can easily be pulled away from the bones; the scales are loose. Smoked fish Smoked fish provide ideal conditions for the growth of Clostridium botulinum spores if left at room temperature. Therefore, upon receipt, all smoked fish must be stored at 38°F or below. It is important to adhere to the temperature requirements stated on the label. Shellfish Shellfish is the term used to describe clams, mussels, and oysters. These belong to the family of mollusks. They are filter feeders, that is, they absorb water from their environment, filter out whatever nutrients are there and then expel the water. Feeding in this manner causes them to absorb and accumulate harmful microorganisms from polluted waters. Since the whole shellfish is eaten either raw or partially cooked, it is critical to ensure that they are harvested from safe waters. It is important to buy shellfish from reputable suppliers who can provide the shipper’s tags which identify the source of the shellfish. These tags supply the following information:  The name of the product  The name of the original shipper  The address of the original shipper  The interstate certificate number of the original shipper  The location of the shellfish harvesting area. When purchasing small amounts from a retailer, a tag must be provided. This is a split-lot tag which has all the information that is on the original tag. The shellfish tag is required to be kept together with the product, then whenever the product is used up, it must be kept for 90 days in order of delivery. The virus Hepatitis A is associated with shellfish. Check if the shellfish is alive. An opened shell may be an indication of dead shellfish. Gently tap on the shell, if the shell closes then it is alive otherwise it’s dead and should be discarded. Both alive as well as shucked shellfish (shellfish that has been removed from its shell) must only be accepted if delivered at a temperature of 41°F or below. Following conditions would automatically be grounds for rejection:  Slimy, sticky or dry texture  Strong fishy odor  Broken shells Other Shellfish Lobsters, crabs and shrimps belong to the family of crustaceans. Fresh lobsters and crabs must be alive at the time of delivery. As with other seafood, a strong fishy odor is an indication of spoilage. The shell of the shrimp must be intact and firmly attached. All processed crustacean must be delivered at 41°F or below. Eggs Eggs produced outside of New York State are inspected by the U.S. Department of Agriculture while those produced within the State are inspected by the New York State Department of Agriculture and Markets. In either case, inspected eggs will be identified by a stamp on the carton. Eggs have long been 5   Split Lot Tag Shellfish Tag It is strongly recommended that the invoices be kept with the tags to aid in tracing the lot’s history. ']"
            ]
          },
          "metadata": {},
          "execution_count": 37
        }
      ],
      "source": [
        "cleaned_pages = [clean_page(page) for page in data]\n",
        "cleaned_pages[:5]"
      ]
    },
    {
      "cell_type": "code",
      "source": [
        "chunked_content = []\n",
        "\n",
        "# Only process the first five pages\n",
        "#for page_content in cleaned_pages[:5]:\n",
        "    # Create a SemanticTextSplitter instance using your embedding model\n",
        "text_splitter = SemanticChunker(embeddings)\n",
        "    # Split the page content into chunks\n",
        "chunks = text_splitter.create_documents(cleaned_pages[:5])\n",
        "    # Extend the chunked_content list with the new chunks\n",
        "chunked_content.extend(chunks)\n",
        "\n",
        "\n",
        "# Inspect a few chunks\n",
        "print(chunks[2].page_content)\n"
      ],
      "metadata": {
        "colab": {
          "base_uri": "https://localhost:8080/"
        },
        "id": "_pEQYSZwJciZ",
        "executionInfo": {
          "status": "ok",
          "timestamp": 1729924353763,
          "user_tz": -330,
          "elapsed": 1772,
          "user": {
            "displayName": "",
            "userId": ""
          }
        },
        "outputId": "d5890184-4a0a-434e-caa0-762b36757e6a"
      },
      "id": "_pEQYSZwJciZ",
      "execution_count": 73,
      "outputs": [
        {
          "output_type": "stream",
          "name": "stdout",
          "text": [
            "If you don’t see a date that is convenient, check back as new course dates are added frequently. 1   INTRODUCTION T he New York City Department of Health and Mental Hygiene has the jurisdiction to regulate all matters affecting health in the city and to perform all those functions and operations that relate to the health of the people of the city. INTRODUCTION \n"
          ]
        }
      ]
    },
    {
      "cell_type": "code",
      "source": [
        "#Use the embedding_model to generate embeddings of the text chunks, saving them to a list called chunked_embeddings\n",
        "chunked_embeddings = []\n",
        "chunked_embeddings = embeddings.embed_query(chunk)\n",
        "print(chunked_embeddings)\n"
      ],
      "metadata": {
        "colab": {
          "base_uri": "https://localhost:8080/"
        },
        "id": "tQGuKOvvK9ZS",
        "executionInfo": {
          "status": "ok",
          "timestamp": 1729924356069,
          "user_tz": -330,
          "elapsed": 665,
          "user": {
            "displayName": "",
            "userId": ""
          }
        },
        "outputId": "b7da319b-6b20-41c6-b732-f7ed556c0c3d"
      },
      "id": "tQGuKOvvK9ZS",
      "execution_count": 74,
      "outputs": [
        {
          "output_type": "stream",
          "name": "stdout",
          "text": [
            "[0.02475065551698208, -0.00070410524494946, -0.005083796102553606, 0.0025818957947194576, -0.013331704773008823, -0.007198393810540438, 0.039864689111709595, 0.029253505170345306, 0.014930332079529762, -0.034707579761743546, 0.03945614770054817, 0.06387560814619064, 0.08196710050106049, -0.011799144558608532, 0.026967056095600128, -0.045428864657878876, 0.03221005201339722, 0.030114280059933662, -0.04923228919506073, 0.005659307818859816, 0.005269278772175312, 0.010837364941835403, 0.04602358862757683, -0.017749115824699402, -0.03156326711177826, -0.003451866563409567, -0.03526823967695236, -0.06972555816173553, -0.04156719893217087, -0.022138750180602074, 0.00939546711742878, 0.00866911094635725, -0.01252972986549139, -2.0102948838029988e-05, 0.0370931476354599, 0.03593934327363968, -0.03531743586063385, 0.07494760304689407, -0.026348041370511055, -0.03559640422463417, -0.04244842007756233, -0.016245681792497635, 0.00850803405046463, 0.04073077067732811, 0.040828123688697815, 0.006276063155382872, -0.027714567258954048, -0.012350566685199738, -0.023401712998747826, 0.009260972961783409, 0.025857284665107727, 0.04278732091188431, -0.010632334277033806, -0.0478607639670372, -0.004663463216274977, -0.005452882964164019, -0.02774404175579548, -0.0296646561473608, -0.052148159593343735, 0.003180308500304818, 0.04016520455479622, -0.0015818130923435092, -0.015082514844834805, 0.003998356871306896, 0.0025642341934144497, -0.048687644302845, 0.0347355417907238, -0.054875899106264114, -0.040539249777793884, -0.007115102373063564, -0.010809245519340038, 0.026261527091264725, 0.006207325495779514, -0.07141304016113281, 0.02076415903866291, -0.004696041811257601, 0.022515488788485527, 0.008878734894096851, 0.061266444623470306, 0.051884230226278305, -0.008396931923925877, 0.05710801109671593, 0.08205318450927734, 0.0035408565308898687, 0.016294756904244423, -0.04315469041466713, 0.03262484073638916, -0.011694218032062054, 0.018157627433538437, -0.03590482473373413, 0.006467461120337248, 0.012724294327199459, -0.028073811903595924, 0.004259129054844379, 0.0948559045791626, 0.018743708729743958, -0.09579063206911087, -0.09200669080018997, 0.047289635986089706, -0.01751844584941864, 0.009988331235945225, 0.014524977654218674, 0.01062305923551321, 0.013399271294474602, 0.012225782498717308, -0.023033978417515755, -0.03747133910655975, -0.02253125235438347, -0.09246449172496796, 0.02495657093822956, -0.0030592328403145075, -0.039523519575595856, 0.009517082013189793, 0.06674777716398239, -0.027492009103298187, -0.030127165839076042, 0.027099095284938812, -0.01035324577242136, -0.03155246749520302, -0.031970154494047165, 0.01601816900074482, -0.0052973488345742226, -0.04207129403948784, 0.04427185654640198, 0.04161812365055084, -0.021176110953092575, 0.0019492554711177945, 0.026694826781749725, -0.04918074235320091, -0.028135688975453377, -0.0458022840321064, -0.07884461432695389, -0.018830254673957825, 0.012042420916259289, -0.07159335166215897, -0.009463322348892689, 0.013910040259361267, 0.06144312024116516, 0.02058509737253189, 0.02516203001141548, 0.011565547436475754, -0.07857153564691544, -0.07103675603866577, 0.023285871371626854, -0.029747789725661278, 0.0030646889936178923, 0.05070996657013893, 0.057601962238550186, 0.004325846675783396, 0.010581034235656261, -0.050253383815288544, -0.027610378339886665, 0.05016585811972618, 0.008140100166201591, 0.039691563695669174, -0.00906092394143343, -0.012955067679286003, -0.012602739036083221, 0.023408278822898865, 0.006722068414092064, 0.020319638773798943, -0.056068047881126404, -0.015360906720161438, 0.11668059229850769, -0.08484159409999847, 0.024292021989822388, -0.02179008349776268, -0.07021229714155197, -0.03054903633892536, -0.011413798667490482, -0.019641581922769547, -0.027079585939645767, -0.003516050521284342, -0.0716409981250763, 0.04371132329106331, 0.05469311773777008, 0.023002106696367264, -0.03850559517741203, -0.028551893308758736, 0.04580078274011612, 0.0689782127737999, -0.009133195504546165, 0.016575422137975693, -0.030674882233142853, 0.028952155262231827, 0.050323233008384705, 0.054282188415527344, -0.0074625699780881405, -0.011774608865380287, -0.0046421256847679615, 0.0008298750035464764, 0.03545704111456871, 0.026386123150587082, 0.030180228874087334, -0.07861936837434769, 0.07826679944992065, -0.0470409169793129, -0.013652309775352478, -0.04367721453309059, -0.039853502064943314, 0.04689180105924606, -0.006019103340804577, 0.03142954409122467, 0.03359651565551758, 0.025238236412405968, 0.0022555047180503607, -0.01940000243484974, -0.03887300193309784, 0.02606942504644394, 0.0034233382903039455, -0.040500394999980927, -0.01600847952067852, -0.011332507245242596, -0.05779874697327614, 0.041744884103536606, -0.025076450780034065, 0.06249174103140831, 0.02997288666665554, 0.0475241057574749, 0.009400318376719952, 0.03613969683647156, -0.006375682074576616, -0.005672231782227755, 0.008801361545920372, 0.007066373247653246, 0.01914401166141033, -0.07805723696947098, -0.0331093855202198, -0.0014346616808325052, -0.004992710892111063, 0.011649955064058304, 0.010753130540251732, 0.035524316132068634, 0.03859027475118637, -0.04211411997675896, 0.04174240306019783, 0.029886968433856964, -0.07959216088056564, 0.005120893940329552, 0.001826179213821888, -0.009231388568878174, -0.04355558753013611, 0.021459465846419334, 0.03229620307683945, -0.02913849987089634, -0.06952343136072159, 0.05228433758020401, 0.08343440294265747, -0.03694697842001915, -0.0564231239259243, 0.052501775324344635, 0.045065369457006454, 0.0005501530249603093, 0.06008082628250122, -0.0032378865871578455, 0.04739207774400711, 0.048465702682733536, 0.0560007281601429, -0.013185120187699795, -0.025279754772782326, 0.054760243743658066, -0.04314717277884483, -0.023660816252231598, -0.04054134711623192, 0.0011262460611760616, -0.04126141965389252, 0.01960870809853077, -0.009299218654632568, -0.012619005516171455, -0.02704427018761635, 0.02899976633489132, 0.04049679636955261, -0.05120113492012024, 0.0345037616789341, -0.01553956139832735, 0.0008418919169344008, -0.03142520785331726, 0.010155405849218369, -0.03189800679683685, -0.002842686837539077, -0.024704627692699432, 0.07410037517547607, 0.021107293665409088, 0.0007002311176620424, -0.016276707872748375, -0.02546018548309803, 0.010498741641640663, 0.003777489997446537, -0.02335975132882595, -0.013329174369573593, -0.0073163919150829315, 0.08304841071367264, 0.019845791161060333, -0.06198514997959137, 0.028606358915567398, 0.026254473254084587, -0.009633911773562431, 0.023877207189798355, 0.003555430332198739, -0.037387389689683914, 0.07514990866184235, 0.009799189865589142, -0.05239728465676308, 0.10162636637687683, 0.010977374389767647, 0.008263129740953445, 0.037739697843790054, 0.016072561964392662, -0.03418653458356857, -0.0154253039509058, 0.06310993432998657, 0.05583349987864494, -0.044366057962179184, -0.011432298459112644, -0.006855446379631758, 0.0045414334163069725, -0.09506673365831375, 0.0067794048227369785, -0.017087342217564583, 0.026985781267285347, 0.01560403872281313, 0.014079338870942593, 0.026597652584314346, 0.026911070570349693, 0.04592474550008774, 0.008733914233744144, 0.010256536304950714, 0.03122556582093239, 0.001916654990054667, 0.0036368905566632748, 0.017217986285686493, -0.019246891140937805, -0.028831806033849716, 0.005565356463193893, -0.03935712203383446, 0.013010692782700062, -0.03395194187760353, -0.018138473853468895, 0.03799945488572121, -0.005222266539931297, 0.0010582755785435438, -0.01640370674431324, 0.06617844849824905, -0.0019497835310176015, -0.02603491209447384, -0.04791520535945892, 0.028255606070160866, -0.001940535381436348, 0.032263483852148056, -0.027757791802287102, 0.04937014728784561, 0.032304104417562485, 0.01700369082391262, -0.03479984775185585, -0.019836710765957832, 0.004625344183295965, 0.03318929672241211, -0.004025216680020094, 0.03798847645521164, 0.012370875105261803, 0.011848054826259613, 0.0476105697453022, -0.010004077106714249, 0.046430885791778564, 0.021103601902723312, 0.04198756441473961, 0.0019257431849837303, 0.05953063443303108, 0.008529171347618103, -0.0238360408693552, -0.03389476239681244, -0.004246978554874659, 0.04089264199137688, 0.02992023155093193, 0.012987533584237099, -0.022877080366015434, -0.0007332360837608576, 0.005251300521194935, -0.0261851754039526, 0.004624682944267988, 0.005644774995744228, -0.0072853947058320045, -0.021505994722247124, 0.035029228776693344, 0.024423517286777496, 0.07333584874868393, -0.03627023100852966, -0.031633347272872925, 0.028747882694005966, -0.015142809599637985, 0.024413960054516792, 0.04147959500551224, 0.05289655923843384, 0.013348542153835297, 0.014332091435790062, 0.033735860139131546, -0.059710822999477386, 0.046240970492362976, 0.006468958221375942, 0.036096081137657166, 0.015400503762066364, 0.016055753454566002, 0.04138502851128578, -0.0193115696310997, 0.04321805015206337, 0.016580577939748764, 0.019736478105187416, 0.039809804409742355, -0.008188886567950249, 0.0635882094502449, 0.016592221334576607, -0.03450772911310196, -0.011686249636113644, 0.018034828826785088, 0.0052138324826955795, 0.0031601933296769857, 0.02335982397198677, -0.018336934968829155, 0.027185579761862755, 0.06167695298790932, 0.009508420713245869, -0.0012153153074905276, 0.019049936905503273, -0.0323985293507576, -0.01959569752216339, -0.039433982223272324, -0.00171250244602561, 0.010095101781189442, -0.024861495941877365, 0.06548353284597397, 0.011227133683860302, 0.04532784968614578, -0.019643399864435196, -0.03322495147585869, 0.008922998793423176, -0.027389369904994965, 0.003211165778338909, -0.054080940783023834, -0.02003604546189308, 0.01450994610786438, 0.014415261335670948, 0.09987747669219971, 0.005113230552524328, -0.014553185552358627, -0.05361030995845795, 0.005238782148808241, 0.00850486010313034, 0.005899452604353428, -0.03163941949605942, -0.0406443327665329, -0.008531787432730198, 0.03736470639705658, -2.2308895495370962e-05, -0.04922274500131607, -0.06619025021791458, 0.007580048870295286, 0.05754943564534187, 0.05926087498664856, 0.0062516978941857815, 0.007871543057262897, -0.0288566742092371, -0.01920504868030548, 0.03526268154382706, -0.020191648975014687, -0.007895107381045818, -0.027955051511526108, -0.03236566483974457, 0.04820946231484413, -0.024084150791168213, -0.006159485317766666, 0.04293952137231827, -0.007498792372643948, 0.006386771332472563, 0.026760995388031006, -0.08696002513170242, -0.02691688947379589, 0.05784059315919876, 0.011598845943808556, -0.0034285220317542553, -0.007169902790337801, -0.026592083275318146, -0.006748289801180363, -0.015463821589946747, 0.013160541653633118, 0.06392332166433334, -0.03781934455037117, 0.01988872140645981, 0.004981862846761942, 0.05699446052312851, 0.006322791799902916, -0.03291289508342743, 0.023653464391827583, -0.014089695177972317, -0.0013774690451100469, -0.011676664464175701, -0.02469763532280922, 0.028751689940690994, 0.006720144301652908, -0.028974978253245354, 0.06938222795724869, 0.09340962022542953, -0.029367834329605103, -0.027217082679271698, -0.07716882228851318, -0.026760442182421684, -0.01174893043935299, -0.008747725747525692, 0.03409884124994278, 0.05125326290726662, 0.05163776874542236, 0.01379089429974556, -0.04340953752398491, 0.006698718294501305, 0.015567943453788757, 0.038771677762269974, -0.03162340074777603, -0.018560750409960747, 0.03623102605342865, 0.014980850741267204, 0.014910244382917881, 0.015732944011688232, -0.05364661291241646, 0.020293917506933212, -0.006358801387250423, -0.011134120635688305, -0.020164046436548233, -0.005660827271640301, 0.008646026253700256, 0.027848053723573685, 0.015830950811505318, 0.07195409387350082, 0.03170803561806679, 0.028517242521047592, 0.027341065928339958, 0.06466399878263474, 0.06466267257928848, 0.06994599103927612, 0.02863469533622265, 0.03333855792880058, 0.02005290798842907, -0.018393132835626602, 0.02191966585814953, 0.0561407245695591, 0.029050827026367188, -0.00781060429289937, 0.04989626258611679, 0.03782942518591881, -0.08107593655586243, 0.008926862850785255, 0.035770244896411896, -0.0752936378121376, -0.03675379231572151, 0.012475437484681606, -0.03296172618865967, 0.00891239196062088, -0.010589267127215862, 0.08488951623439789, -0.03866850212216377, -0.028585633262991905, 0.07016997784376144, 0.02962721697986126, -0.055417127907276154, 0.0005978716071695089, 0.009652170352637768, -0.031588319689035416, -0.005991582293063402, -0.019552163779735565, 0.08640062063932419, 0.0012410193448886275, 0.00898178294301033, -0.0637093037366867, -0.015330211259424686, 0.03510350361466408, -0.022907353937625885, 0.032380785793066025, -0.009210074320435524, 0.00036090234061703086, -0.04918408766388893, 0.0014647990465164185, -0.01943226531147957, -0.0008724982035346329, 0.036484211683273315, 0.054334934800863266, 0.024493519216775894, -0.0018302947282791138, 0.00496471393853426, 0.04052647203207016, -0.007581530138850212, 0.0009201374487020075, 0.037739504128694534, -0.03579332306981087, -0.013026987202465534, 0.015534758567810059, -0.09041041135787964, 0.025296375155448914, 0.013974010944366455, -0.06129704415798187, 0.014906357042491436, 0.016128171235322952, -0.008074856363236904, -0.0014606377808377147, 0.012541006319224834, 0.026246150955557823, 0.05272091552615166, -0.01352377887815237, 0.005457020364701748, -0.005718705710023642, -0.02327529340982437, 0.018680689856410027, -0.00848019402474165, 0.018701618537306786, 0.033119238913059235, 0.012853953056037426, -0.04532615467905998, -0.020439380779862404, -0.02822202444076538, 0.000349705369444564, 0.005180510226637125, 0.009128455072641373, 0.010463017970323563, -0.012002918869256973, 0.015429452992975712, 0.007860071957111359, -0.028933564200997353, -0.029964862391352654, -0.016286488622426987, 0.006287707015872002, 0.06053609028458595, 0.017285000532865524, -0.01008390448987484, -0.05718108266592026, 0.0231045950204134, 0.028947729617357254, -0.03073100745677948, -0.044284649193286896, -0.02671428956091404, -0.015992915257811546, -0.012182203121483326, 0.06016318127512932, -0.02659936249256134, 0.021145448088645935, 0.07412004470825195, 0.050137750804424286, -0.05074078589677811, -0.09110178053379059, -0.00837960559874773, 0.04890827462077141, -0.03665069863200188, -0.002265844028443098, 0.0387771874666214, -0.003057731781154871, 0.026767393574118614, -0.03515526279807091, 0.040229544043540955, -0.0007513877935707569, -0.005981396418064833, 0.004726003855466843, 0.04265037924051285, 0.047138817608356476, -0.030317438766360283, -0.0038403181824833155, -0.03408295661211014, -0.01891711726784706, 0.07826627045869827, -0.04247736558318138, 0.0522688552737236, -0.026150913909077644, -0.03757855296134949, -0.021445317193865776, -0.060314394533634186, 0.015485604293644428, -0.03822752833366394, -0.025384407490491867, 0.05176324397325516, 0.023519430309534073, -0.01924455352127552, -0.0054370202124118805, 0.037553463131189346, -0.014132906682789326, -0.011605232022702694, -0.0111064612865448, 0.05092078447341919, 0.017538180574774742, 0.03438799828290939, 0.015772130340337753, -0.032781243324279785, 0.006319875828921795, -0.038104381412267685, 0.03571751341223717, 0.060472555458545685, 0.027180969715118408, 0.016054324805736542, -0.018165437504649162, 0.037346769124269485, 0.012654047459363937, 0.06506849080324173, -0.053095266222953796, 0.007723400369286537, -0.038362596184015274, 0.012383642606437206, 0.02137758955359459, 0.0079616978764534, -0.043078530579805374, -0.031107287853956223, 0.011252136901021004, 0.005687240976840258, 0.04525231197476387, 0.08118752390146255, -0.0057793124578893185, -0.017276372760534286, -0.05095978081226349, 0.011094462126493454, 0.06094416230916977, -0.054542019963264465, -0.01771361008286476, 0.02178025431931019, 0.042521391063928604, 0.08828414231538773, -0.03003140725195408, 0.009146271273493767, -0.0006276494241319597, 0.022293951362371445, 0.0010309433564543724, 0.02037254348397255, 0.03680838271975517, 0.008898160420358181, -0.057931654155254364, 0.004191518295556307, -0.05372562259435654, -0.010272454470396042, 0.02660071663558483, 0.026964768767356873, -0.019067125394940376, 0.08060824871063232, -0.04369073361158371, 0.037998784333467484, -2.0958927052561194e-05, 0.016678906977176666, -0.01891002058982849, -0.04382094368338585, 0.011649719439446926, 0.03643110767006874, 0.02005651593208313, 0.04807712137699127, -0.023275064304471016, 0.03275987505912781, -0.012567039579153061, -0.006324349902570248, -0.0223398394882679, -0.06990690529346466, -0.1313582956790924, -0.0050165955908596516, -0.016380229964852333, 0.045377425849437714, 0.06050335615873337, 0.020225265994668007, -0.0009151125559583306, 0.03030208684504032, 0.045563261955976486, -0.019326943904161453, 0.003770900424569845, 0.0021767595317214727, -0.05466683581471443, -0.03978538140654564, -0.024249495938420296, 0.010795610025525093, 0.02855033241212368, 0.0021384372375905514]\n"
          ]
        }
      ]
    },
    {
      "cell_type": "code",
      "execution_count": 40,
      "id": "58fce564-161e-4734-8a8f-74bd5b59383d",
      "metadata": {
        "tags": [],
        "colab": {
          "base_uri": "https://localhost:8080/"
        },
        "id": "58fce564-161e-4734-8a8f-74bd5b59383d",
        "executionInfo": {
          "status": "ok",
          "timestamp": 1729920831769,
          "user_tz": -330,
          "elapsed": 5188,
          "user": {
            "displayName": "",
            "userId": ""
          }
        },
        "outputId": "581b71a1-1180-4d17-f572-c3733a3f1985"
      },
      "outputs": [
        {
          "output_type": "stream",
          "name": "stdout",
          "text": [
            "Copying gs://partner-genai-bucket/genai069/chunked_content.pkl...\n",
            "/ [0 files][    0.0 B/280.7 KiB]                                                \r/ [1 files][280.7 KiB/280.7 KiB]                                                \r\n",
            "Operation completed over 1 objects/280.7 KiB.                                    \n",
            "Copying gs://partner-genai-bucket/genai069/chunked_embeddings.pkl...\n",
            "/ [1 files][  1.8 MiB/  1.8 MiB]                                                \n",
            "Operation completed over 1 objects/1.8 MiB.                                      \n"
          ]
        }
      ],
      "source": [
        "!gsutil cp gs://partner-genai-bucket/genai069/chunked_content.pkl .\n",
        "!gsutil cp gs://partner-genai-bucket/genai069/chunked_embeddings.pkl .\n",
        "\n",
        "chunked_content = pickle.load(open(\"chunked_content.pkl\", \"rb\"))\n",
        "chunked_embeddings = pickle.load(open(\"chunked_embeddings.pkl\", \"rb\"))"
      ]
    },
    {
      "cell_type": "code",
      "execution_count": 78,
      "id": "4b23d225-4a8f-4f28-b12b-1430edee0df8",
      "metadata": {
        "tags": [],
        "id": "4b23d225-4a8f-4f28-b12b-1430edee0df8",
        "executionInfo": {
          "status": "ok",
          "timestamp": 1729926314236,
          "user_tz": -330,
          "elapsed": 691,
          "user": {
            "displayName": "",
            "userId": ""
          }
        }
      },
      "outputs": [],
      "source": [
        "db = firestore.Client()\n",
        "collection = db.collection(\"food-safety\")"
      ]
    },
    {
      "cell_type": "code",
      "execution_count": 79,
      "id": "13013bbd-ac84-4efc-9e85-58d270bface8",
      "metadata": {
        "tags": [],
        "colab": {
          "base_uri": "https://localhost:8080/",
          "height": 367
        },
        "id": "13013bbd-ac84-4efc-9e85-58d270bface8",
        "executionInfo": {
          "status": "error",
          "timestamp": 1729926317002,
          "user_tz": -330,
          "elapsed": 719,
          "user": {
            "displayName": "",
            "userId": ""
          }
        },
        "outputId": "d8b92842-7534-4cb7-ee6a-8df9be4ebf57"
      },
      "outputs": [
        {
          "output_type": "error",
          "ename": "TypeError",
          "evalue": "'float' object is not iterable",
          "traceback": [
            "\u001b[0;31m---------------------------------------------------------------------------\u001b[0m",
            "\u001b[0;31mTypeError\u001b[0m                                 Traceback (most recent call last)",
            "\u001b[0;32m<ipython-input-79-86aa19dea049>\u001b[0m in \u001b[0;36m<cell line: 1>\u001b[0;34m()\u001b[0m\n\u001b[1;32m      3\u001b[0m     document_ref.set({\n\u001b[1;32m      4\u001b[0m         \u001b[0;34m\"content\"\u001b[0m\u001b[0;34m:\u001b[0m \u001b[0mchunk\u001b[0m\u001b[0;34m,\u001b[0m\u001b[0;34m\u001b[0m\u001b[0;34m\u001b[0m\u001b[0m\n\u001b[0;32m----> 5\u001b[0;31m         \u001b[0;34m\"embedding\"\u001b[0m\u001b[0;34m:\u001b[0m \u001b[0mVector\u001b[0m\u001b[0;34m(\u001b[0m\u001b[0mchunked_embeddings\u001b[0m\u001b[0;34m[\u001b[0m\u001b[0mi\u001b[0m\u001b[0;34m]\u001b[0m\u001b[0;34m)\u001b[0m\u001b[0;34m\u001b[0m\u001b[0;34m\u001b[0m\u001b[0m\n\u001b[0m\u001b[1;32m      6\u001b[0m     })\n\u001b[1;32m      7\u001b[0m \u001b[0;34m\u001b[0m\u001b[0m\n",
            "\u001b[0;32m/usr/local/lib/python3.10/dist-packages/google/cloud/firestore_v1/vector.py\u001b[0m in \u001b[0;36m__init__\u001b[0;34m(self, value)\u001b[0m\n\u001b[1;32m     27\u001b[0m \u001b[0;34m\u001b[0m\u001b[0m\n\u001b[1;32m     28\u001b[0m     \u001b[0;32mdef\u001b[0m \u001b[0m__init__\u001b[0m\u001b[0;34m(\u001b[0m\u001b[0mself\u001b[0m\u001b[0;34m,\u001b[0m \u001b[0mvalue\u001b[0m\u001b[0;34m:\u001b[0m \u001b[0mSequence\u001b[0m\u001b[0;34m[\u001b[0m\u001b[0mfloat\u001b[0m\u001b[0;34m]\u001b[0m\u001b[0;34m)\u001b[0m\u001b[0;34m:\u001b[0m\u001b[0;34m\u001b[0m\u001b[0;34m\u001b[0m\u001b[0m\n\u001b[0;32m---> 29\u001b[0;31m         \u001b[0mself\u001b[0m\u001b[0;34m.\u001b[0m\u001b[0m_value\u001b[0m \u001b[0;34m=\u001b[0m \u001b[0mtuple\u001b[0m\u001b[0;34m(\u001b[0m\u001b[0;34m[\u001b[0m\u001b[0mfloat\u001b[0m\u001b[0;34m(\u001b[0m\u001b[0mv\u001b[0m\u001b[0;34m)\u001b[0m \u001b[0;32mfor\u001b[0m \u001b[0mv\u001b[0m \u001b[0;32min\u001b[0m \u001b[0mvalue\u001b[0m\u001b[0;34m]\u001b[0m\u001b[0;34m)\u001b[0m\u001b[0;34m\u001b[0m\u001b[0;34m\u001b[0m\u001b[0m\n\u001b[0m\u001b[1;32m     30\u001b[0m \u001b[0;34m\u001b[0m\u001b[0m\n\u001b[1;32m     31\u001b[0m     \u001b[0;32mdef\u001b[0m \u001b[0m__getitem__\u001b[0m\u001b[0;34m(\u001b[0m\u001b[0mself\u001b[0m\u001b[0;34m,\u001b[0m \u001b[0marg\u001b[0m\u001b[0;34m:\u001b[0m \u001b[0mint\u001b[0m\u001b[0;34m)\u001b[0m\u001b[0;34m:\u001b[0m\u001b[0;34m\u001b[0m\u001b[0;34m\u001b[0m\u001b[0m\n",
            "\u001b[0;31mTypeError\u001b[0m: 'float' object is not iterable"
          ]
        }
      ],
      "source": [
        "for i, chunk in enumerate(chunked_content):\n",
        "    document_ref = collection.document(f\"doc_{i}\")\n",
        "    document_ref.set({\n",
        "        \"content\": chunk,\n",
        "        \"embedding\": Vector(chunked_embeddings[i])\n",
        "    })\n",
        ""
      ]
    },
    {
      "cell_type": "code",
      "source": [
        "from vertexai.language_models import TextEmbeddingModel\n",
        "\n",
        "def text_embedding(text_to_embed) -> list:\n",
        "    \"\"\"Text embedding with a Large Language Model.\"\"\"\n",
        "    embedding_model = TextEmbeddingModel.from_pretrained(\"text-embedding-004\")\n",
        "    embeddings = embedding_model.get_embeddings([text_to_embed])\n",
        "    for embedding in embeddings:\n",
        "        vector = embedding.values\n",
        "        print(f\"Length of Embedding Vector: {len(vector)}\")\n",
        "    return vector"
      ],
      "metadata": {
        "id": "0qUB-bTHcZ76",
        "executionInfo": {
          "status": "ok",
          "timestamp": 1729926324197,
          "user_tz": -330,
          "elapsed": 686,
          "user": {
            "displayName": "",
            "userId": ""
          }
        }
      },
      "id": "0qUB-bTHcZ76",
      "execution_count": 80,
      "outputs": []
    },
    {
      "cell_type": "code",
      "execution_count": 76,
      "id": "dee7a940-569e-4a16-8da2-19eba438de37",
      "metadata": {
        "tags": [],
        "id": "dee7a940-569e-4a16-8da2-19eba438de37",
        "executionInfo": {
          "status": "ok",
          "timestamp": 1729926296757,
          "user_tz": -330,
          "elapsed": 2,
          "user": {
            "displayName": "",
            "userId": ""
          }
        }
      },
      "outputs": [],
      "source": [
        "from google.cloud.firestore_v1.base_vector_query import DistanceMeasure\n",
        "\n",
        "def search_vector_database(query):\n",
        "    \"\"\"Search Firestore for documents similar to the query.\"\"\"\n",
        "    query_embedding = text_embedding(query)\n",
        "    # Find the 5 nearest neighbors to the query embedding\n",
        "    results = collection.find_nearest(\n",
        "    vector_field=\"embedding\",\n",
        "    query_vector=Vector(query_embedding),\n",
        "    distance_measure=DistanceMeasure.EUCLIDEAN,\n",
        "    limit=5,\n",
        "    )\n",
        "\n",
        "\n",
        "    # Extract the document data from the search results\n",
        "    snapshots = results.get()\n",
        "    context = \"\"\n",
        "    for snapshot in snapshots:\n",
        "        context += snapshot.to_dict()['content']\n",
        "    return context\n",
        "\n",
        "\n"
      ]
    },
    {
      "cell_type": "code",
      "execution_count": 77,
      "id": "482c4539-a06f-4908-81fb-9b2e2c4fcd2d",
      "metadata": {
        "tags": [],
        "colab": {
          "base_uri": "https://localhost:8080/",
          "height": 332
        },
        "id": "482c4539-a06f-4908-81fb-9b2e2c4fcd2d",
        "executionInfo": {
          "status": "error",
          "timestamp": 1729926300579,
          "user_tz": -330,
          "elapsed": 743,
          "user": {
            "displayName": "",
            "userId": ""
          }
        },
        "outputId": "ee161129-1489-412c-ca8a-e937a314ea13"
      },
      "outputs": [
        {
          "output_type": "stream",
          "name": "stdout",
          "text": [
            "Length of Embedding Vector: 768\n"
          ]
        },
        {
          "output_type": "error",
          "ename": "NameError",
          "evalue": "name 'collection' is not defined",
          "traceback": [
            "\u001b[0;31m---------------------------------------------------------------------------\u001b[0m",
            "\u001b[0;31mNameError\u001b[0m                                 Traceback (most recent call last)",
            "\u001b[0;32m<ipython-input-77-a82af1afb9ff>\u001b[0m in \u001b[0;36m<cell line: 2>\u001b[0;34m()\u001b[0m\n\u001b[1;32m      1\u001b[0m \u001b[0;31m#Test the search_firestore function with a query string.\u001b[0m\u001b[0;34m\u001b[0m\u001b[0;34m\u001b[0m\u001b[0m\n\u001b[0;32m----> 2\u001b[0;31m \u001b[0msearch_vector_database\u001b[0m\u001b[0;34m(\u001b[0m\u001b[0;34m\"How should I store food?\"\u001b[0m\u001b[0;34m)\u001b[0m\u001b[0;34m\u001b[0m\u001b[0;34m\u001b[0m\u001b[0m\n\u001b[0m",
            "\u001b[0;32m<ipython-input-76-d19c02e1ec18>\u001b[0m in \u001b[0;36msearch_vector_database\u001b[0;34m(query)\u001b[0m\n\u001b[1;32m      5\u001b[0m     \u001b[0mquery_embedding\u001b[0m \u001b[0;34m=\u001b[0m \u001b[0mtext_embedding\u001b[0m\u001b[0;34m(\u001b[0m\u001b[0mquery\u001b[0m\u001b[0;34m)\u001b[0m\u001b[0;34m\u001b[0m\u001b[0;34m\u001b[0m\u001b[0m\n\u001b[1;32m      6\u001b[0m     \u001b[0;31m# Find the 5 nearest neighbors to the query embedding\u001b[0m\u001b[0;34m\u001b[0m\u001b[0;34m\u001b[0m\u001b[0m\n\u001b[0;32m----> 7\u001b[0;31m     results = collection.find_nearest(\n\u001b[0m\u001b[1;32m      8\u001b[0m     \u001b[0mvector_field\u001b[0m\u001b[0;34m=\u001b[0m\u001b[0;34m\"embedding\"\u001b[0m\u001b[0;34m,\u001b[0m\u001b[0;34m\u001b[0m\u001b[0;34m\u001b[0m\u001b[0m\n\u001b[1;32m      9\u001b[0m     \u001b[0mquery_vector\u001b[0m\u001b[0;34m=\u001b[0m\u001b[0mVector\u001b[0m\u001b[0;34m(\u001b[0m\u001b[0mquery_embedding\u001b[0m\u001b[0;34m)\u001b[0m\u001b[0;34m,\u001b[0m\u001b[0;34m\u001b[0m\u001b[0;34m\u001b[0m\u001b[0m\n",
            "\u001b[0;31mNameError\u001b[0m: name 'collection' is not defined"
          ]
        }
      ],
      "source": [
        "#Test the search_firestore function with a query string.\n",
        "search_vector_database(\"How should I store food?\")"
      ]
    },
    {
      "cell_type": "code",
      "execution_count": null,
      "id": "b3332411-1339-4219-9710-6234f022d300",
      "metadata": {
        "id": "b3332411-1339-4219-9710-6234f022d300"
      },
      "outputs": [],
      "source": []
    }
  ],
  "metadata": {
    "environment": {
      "kernel": "python3",
      "name": "tf2-cpu.2-11.m125",
      "type": "gcloud",
      "uri": "us-docker.pkg.dev/deeplearning-platform-release/gcr.io/tf2-cpu.2-11:m125"
    },
    "kernelspec": {
      "display_name": "Python 3 (Local)",
      "language": "python",
      "name": "python3"
    },
    "language_info": {
      "codemirror_mode": {
        "name": "ipython",
        "version": 3
      },
      "file_extension": ".py",
      "mimetype": "text/x-python",
      "name": "python",
      "nbconvert_exporter": "python",
      "pygments_lexer": "ipython3",
      "version": "3.10.15"
    },
    "colab": {
      "provenance": []
    }
  },
  "nbformat": 4,
  "nbformat_minor": 5
}